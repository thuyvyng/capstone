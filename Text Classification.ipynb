{
 "cells": [
  {
   "cell_type": "markdown",
   "metadata": {},
   "source": [
    "# Text Classification\n",
    "\n",
    "Text classification is the process of assigning tags or categories to text according to its content. It’s one of the fundamental tasks in natural language processing. \n",
    "\n",
    "The text we wanna classify is given as input to an algorithm, the algorithm will then analyze the text’s content, and then categorize the input as one of the tags or categories previously given.\n",
    "\n",
    "**Input → Classifying Algorithm → Classification of Input**\n",
    "\n",
    "Real life examples: \n",
    "\n",
    "+ sentiment analysis: how does the writer of the sentence feel about what they are writing about, do they think positively or negatively of the subject?\n",
    "Ex. restaurant reviews\n",
    "topic labeling: given sentences and a set of topics, which topic does this sentence fall under? \n",
    "Ex. is this essay about history? Math? etc?\n",
    "spam detection\n",
    "Ex. Email filtering: is this email a real important email or spam?\n",
    "\n",
    "Example. \n",
    "A restaurant wants to evaluate their ratings but don’t want to read through all of them. Therefore, they wanna use a computer algorithm to do all their work. They simply want to know if the customer’s review is positive or negative.\n",
    "\n",
    "Here’s an example of a customer’s review and a simple way an algorithm could classify their review.\n",
    "\n",
    "Input: “The food here was too salty and too expensive” \n",
    "\n",
    "Algorithm: \n",
    "Goes through every word in the sentence and counts how many positive words and how many negative words are in the sentence.\n",
    "\n",
    "\t\t“The, food, here, was, too, and” are all neutral words\n",
    "\n",
    "\t\t“Salty, expensive” are negative words.\n",
    "\n",
    "\t\tNegative words: 2\n",
    "\t\tPositive words: 0\n",
    "\n",
    "Classification: Negative Review, because there are more negative words (2) than positive (0).\n",
    "\n",
    "However, this algorithm obviously doesn’t work in a lot of cases. \n",
    "\n",
    "For example, “The food here was good, not expensive and not salty” would be classified as negative but it’s actually a positive review. \n",
    "\n",
    "Language and text can get very complicated which makes creating these algorithms difficult. Some things that make language difficult could be words that have multiple meanings, negation words (words such as not), slang, etc.\n",
    "\n"
   ]
  },
  {
   "cell_type": "markdown",
   "metadata": {},
   "source": [
    "## Importing Data"
   ]
  },
  {
   "cell_type": "code",
   "execution_count": 1,
   "metadata": {},
   "outputs": [],
   "source": [
    "import sys\n",
    "import string\n",
    "from scipy import sparse\n",
    "import numpy as np"
   ]
  },
  {
   "cell_type": "code",
   "execution_count": 2,
   "metadata": {},
   "outputs": [],
   "source": [
    "trainingFile = \"trainingSet.txt\"\n",
    "testingFile = \"testSet.txt\""
   ]
  },
  {
   "cell_type": "code",
   "execution_count": 3,
   "metadata": {},
   "outputs": [],
   "source": [
    "def getData(fileName):\n",
    "    f = open(fileName)\n",
    "    file = f.readlines()\n",
    "\n",
    "    sentences = []\n",
    "    sentiments = []\n",
    "\n",
    "    for line in file:\n",
    "        sentence, sentiment = line.split('\\t')\n",
    "        sentences.append(sentence.strip())\n",
    "        sentiments.append(int(sentiment.strip())) # Sentiment in {0,1}\n",
    "\n",
    "    return sentences, np.array(sentiments)"
   ]
  },
  {
   "cell_type": "code",
   "execution_count": 4,
   "metadata": {},
   "outputs": [],
   "source": [
    "trainingSentences, trainingLabels = getData(trainingFile)\n",
    "testingSentences, testingLabels = getData(testingFile)"
   ]
  },
  {
   "cell_type": "markdown",
   "metadata": {},
   "source": [
    "## Pre-Processing Data"
   ]
  },
  {
   "cell_type": "code",
   "execution_count": 5,
   "metadata": {},
   "outputs": [],
   "source": [
    "def preProcess(sentences):\n",
    "\n",
    "    def cleanText(text):\n",
    "        # Make lower case\n",
    "        text = text.lower()\n",
    "\n",
    "        # Replace non-text characters with spaces\n",
    "        nonText = string.punctuation + (\"\")\n",
    "        text = text.translate(string.maketrans(nonText, ' ' * (len(nonText))))\n",
    "\n",
    "        # Tokenize\n",
    "        words = text.split()\n",
    "\n",
    "        return words\n",
    "\n",
    "    return list(map(cleanText, sentences))"
   ]
  },
  {
   "cell_type": "code",
   "execution_count": 27,
   "metadata": {},
   "outputs": [
    {
     "name": "stdout",
     "output_type": "stream",
     "text": [
      "[['wow', 'loved', 'this', 'place'], ['not', 'tasty', 'and', 'the', 'texture', 'was', 'just', 'nasty'], ['stopped', 'by', 'during', 'the', 'late', 'may', 'bank', 'holiday', 'off', 'rick', 'steve', 'recommendation', 'and', 'loved', 'it'], ['the', 'selection', 'on', 'the', 'menu', 'was', 'great', 'and', 'so', 'were', 'the', 'prices'], ['now', 'i', 'am', 'getting', 'angry', 'and', 'i', 'want', 'my', 'damn', 'pho'], ['honeslty', 'it', 'didn', 't', 'taste', 'that', 'fresh'], ['the', 'potatoes', 'were', 'like', 'rubber', 'and', 'you', 'could', 'tell', 'they', 'had', 'been', 'made', 'up', 'ahead', 'of', 'time', 'being', 'kept', 'under', 'a', 'warmer'], ['the', 'fries', 'were', 'great', 'too'], ['a', 'great', 'touch'], ['service', 'was', 'very', 'prompt'], ['the', 'cashier', 'had', 'no', 'care', 'what', 'so', 'ever', 'on', 'what', 'i', 'had', 'to', 'say', 'it', 'still', 'ended', 'up', 'being', 'wayyy', 'overpriced'], ['i', 'tried', 'the', 'cape', 'cod', 'ravoli', 'chicken', 'with', 'cranberry', 'mmmm'], ['i', 'was', 'disgusted', 'because', 'i', 'was', 'pretty', 'sure', 'that', 'was', 'human', 'hair'], ['highly', 'recommended'], ['waitress', 'was', 'a', 'little', 'slow', 'in', 'service'], ['this', 'place', 'is', 'not', 'worth', 'your', 'time', 'let', 'alone', 'vegas'], ['did', 'not', 'like', 'at', 'all'], ['the', 'burrittos', 'blah'], ['that', 's', 'right', 'the', 'red', 'velvet', 'cake', 'ohhh', 'this', 'stuff', 'is', 'so', 'good'], ['they', 'never', 'brought', 'a', 'salad', 'we', 'asked', 'for'], ['took', 'an', 'hour', 'to', 'get', 'our', 'food', 'only', '4', 'tables', 'in', 'restaurant', 'my', 'food', 'was', 'luke', 'warm', 'our', 'sever', 'was', 'running', 'around', 'like', 'he', 'was', 'totally', 'overwhelmed'], ['overall', 'i', 'like', 'this', 'place', 'a', 'lot'], ['the', 'only', 'redeeming', 'quality', 'of', 'the', 'restaurant', 'was', 'that', 'it', 'was', 'very', 'inexpensive'], ['poor', 'service', 'the', 'waiter', 'made', 'me', 'feel', 'like', 'i', 'was', 'stupid', 'every', 'time', 'he', 'came', 'to', 'the', 'table'], ['my', 'first', 'visit', 'to', 'hiro', 'was', 'a', 'delight'], ['the', 'shrimp', 'tender', 'and', 'moist'], ['there', 'is', 'not', 'a', 'deal', 'good', 'enough', 'that', 'would', 'drag', 'me', 'into', 'that', 'establishment', 'again'], ['hard', 'to', 'judge', 'whether', 'these', 'sides', 'were', 'good', 'because', 'we', 'were', 'grossed', 'out', 'by', 'the', 'melted', 'styrofoam', 'and', 'didn', 't', 'want', 'to', 'eat', 'it', 'for', 'fear', 'of', 'getting', 'sick'], ['on', 'a', 'positive', 'note', 'our', 'server', 'was', 'very', 'attentive', 'and', 'provided', 'great', 'service'], ['the', 'only', 'thing', 'i', 'did', 'like', 'was', 'the', 'prime', 'rib', 'and', 'dessert', 'section'], ['the', 'burger', 'is', 'good', 'beef', 'cooked', 'just', 'right'], ['we', 'ordered', 'the', 'duck', 'rare', 'and', 'it', 'was', 'pink', 'and', 'tender', 'on', 'the', 'inside', 'with', 'a', 'nice', 'char', 'on', 'the', 'outside'], ['he', 'came', 'running', 'after', 'us', 'when', 'he', 'realized', 'my', 'husband', 'had', 'left', 'his', 'sunglasses', 'on', 'the', 'table'], ['they', 'have', 'horrible', 'attitudes', 'towards', 'customers', 'and', 'talk', 'down', 'to', 'each', 'one', 'when', 'customers', 'don', 't', 'enjoy', 'their', 'food'], ['not', 'much', 'seafood', 'and', 'like', '5', 'strings', 'of', 'pasta', 'at', 'the', 'bottom'], ['at', 'least', 'think', 'to', 'refill', 'my', 'water', 'before', 'i', 'struggle', 'to', 'wave', 'you', 'over', 'for', '10', 'minutes'], ['this', 'place', 'receives', 'stars', 'for', 'their', 'appetizers'], ['the', 'cocktails', 'are', 'all', 'handmade', 'and', 'delicious'], ['we', 'd', 'definitely', 'go', 'back', 'here', 'again'], ['we', 'are', 'so', 'glad', 'we', 'found', 'this', 'place'], ['always', 'a', 'great', 'time', 'at', 'dos', 'gringos'], ['a', 'great', 'way', 'to', 'finish', 'a', 'great'], ['the', 'scallop', 'dish', 'is', 'quite', 'appalling', 'for', 'value', 'as', 'well'], ['there', 'is', 'so', 'much', 'good', 'food', 'in', 'vegas', 'that', 'i', 'feel', 'cheated', 'for', 'wasting', 'an', 'eating', 'opportunity', 'by', 'going', 'to', 'rice', 'and', 'company'], ['coming', 'here', 'is', 'like', 'experiencing', 'an', 'underwhelming', 'relationship', 'where', 'both', 'parties', 'can', 't', 'wait', 'for', 'the', 'other', 'person', 'to', 'ask', 'to', 'break', 'up'], ['the', 'turkey', 'and', 'roast', 'beef', 'were', 'bland'], ['this', 'place', 'has', 'it'], ['i', 'love', 'the', 'pho', 'and', 'the', 'spring', 'rolls', 'oh', 'so', 'yummy', 'you', 'have', 'to', 'try'], ['omelets', 'are', 'to', 'die', 'for'], ['in', 'summary', 'this', 'was', 'a', 'largely', 'disappointing', 'dining', 'experience'], ['it', 's', 'like', 'a', 'really', 'sexy', 'party', 'in', 'your', 'mouth', 'where', 'you', 're', 'outrageously', 'flirting', 'with', 'the', 'hottest', 'person', 'at', 'the', 'party'], ['best', 'breakfast', 'buffet'], ['will', 'be', 'back', 'again'], ['our', 'server', 'was', 'fantastic', 'and', 'when', 'he', 'found', 'out', 'the', 'wife', 'loves', 'roasted', 'garlic', 'and', 'bone', 'marrow', 'he', 'added', 'extra', 'to', 'our', 'meal', 'and', 'another', 'marrow', 'to', 'go'], ['the', 'only', 'good', 'thing', 'was', 'our', 'waiter', 'he', 'was', 'very', 'helpful', 'and', 'kept', 'the', 'bloddy', 'mary', 's', 'coming'], ['best', 'buffet', 'in', 'town', 'for', 'the', 'price', 'you', 'cannot', 'beat', 'it'], ['so', 'we', 'went', 'to', 'tigerlilly', 'and', 'had', 'a', 'fantastic', 'afternoon'], ['the', 'food', 'was', 'delicious', 'our', 'bartender', 'was', 'attentive', 'and', 'personable', 'and', 'we', 'got', 'a', 'great', 'deal'], ['the', 'ambience', 'is', 'wonderful', 'and', 'there', 'is', 'music', 'playing'], ['will', 'go', 'back', 'next', 'trip', 'out'], ['real', 'sushi', 'lovers', 'let', 's', 'be', 'honest', 'yama', 'is', 'not', 'that', 'good'], ['at', 'least', '40min', 'passed', 'in', 'between', 'us', 'ordering', 'and', 'the', 'food', 'arriving', 'and', 'it', 'wasn', 't', 'that', 'busy'], ['this', 'is', 'a', 'really', 'fantastic', 'thai', 'restaurant', 'which', 'is', 'definitely', 'worth', 'a', 'visit'], ['nice', 'spicy', 'and', 'tender'], ['good', 'prices'], ['i', 'just', 'don', 't', 'know', 'how', 'this', 'place', 'managed', 'to', 'served', 'the', 'blandest', 'food', 'i', 'have', 'ever', 'eaten', 'when', 'they', 'are', 'preparing', 'indian', 'cuisine'], ['host', 'staff', 'were', 'for', 'lack', 'of', 'a', 'better', 'word', 'bitches'], ['bland', 'not', 'a', 'liking', 'this', 'place', 'for', 'a', 'number', 'of', 'reasons', 'and', 'i', 'don', 't', 'want', 'to', 'waste', 'time', 'on', 'bad', 'reviewing', 'i', 'll', 'leave', 'it', 'at', 'that'], ['this', 'place', 'is', 'way', 'too', 'overpriced', 'for', 'mediocre', 'food'], ['they', 'have', 'a', 'good', 'selection', 'of', 'food', 'including', 'a', 'massive', 'meatloaf', 'sandwich', 'a', 'crispy', 'chicken', 'wrap', 'a', 'delish', 'tuna', 'melt', 'and', 'some', 'tasty', 'burgers'], ['the', 'management', 'is', 'rude'], ['delicious', 'nyc', 'bagels', 'good', 'selections', 'of', 'cream', 'cheese', 'real', 'lox', 'with', 'capers', 'even'], ['great', 'subway', 'in', 'fact', 'it', 's', 'so', 'good', 'when', 'you', 'come', 'here', 'every', 'other', 'subway', 'will', 'not', 'meet', 'your', 'expectations'], ['he', 'was', 'extremely', 'rude', 'and', 'really', 'there', 'are', 'so', 'many', 'other', 'restaurants', 'i', 'would', 'love', 'to', 'dine', 'at', 'during', 'a', 'weekend', 'in', 'vegas'], ['the', 'waiter', 'wasn', 't', 'helpful', 'or', 'friendly', 'and', 'rarely', 'checked', 'on', 'us'], ['and', 'the', 'red', 'curry', 'had', 'so', 'much', 'bamboo', 'shoots', 'and', 'wasn', 't', 'very', 'tasty', 'to', 'me'], ['nice', 'blanket', 'of', 'moz', 'over', 'top', 'but', 'i', 'feel', 'like', 'this', 'was', 'done', 'to', 'cover', 'up', 'the', 'subpar', 'food'], ['the', 'bathrooms', 'are', 'clean', 'and', 'the', 'place', 'itself', 'is', 'well', 'decorated'], ['the', 'menu', 'is', 'always', 'changing', 'food', 'quality', 'is', 'going', 'down', 'service', 'is', 'extremely', 'slow'], ['the', 'service', 'was', 'a', 'little', 'slow', 'considering', 'that', 'were', 'served', 'by', '3', 'people', 'servers', 'so', 'the', 'food', 'was', 'coming', 'in', 'a', 'slow', 'pace'], ['i', 'give', 'it', '2', 'thumbs', 'down'], ['we', 'watched', 'our', 'waiter', 'pay', 'a', 'lot', 'more', 'attention', 'to', 'other', 'tables', 'and', 'ignore', 'us'], ['my', 'fianc\\xc3\\xa9', 'and', 'i', 'came', 'in', 'the', 'middle', 'of', 'the', 'day', 'and', 'we', 'were', 'greeted', 'and', 'seated', 'right', 'away'], ['some', 'highlights', 'great', 'quality', 'nigiri', 'here'], ['the', 'staff', 'is', 'friendly', 'and', 'the', 'joint', 'is', 'always', 'clean'], ['this', 'was', 'a', 'different', 'cut', 'than', 'the', 'piece', 'the', 'other', 'day', 'but', 'still', 'wonderful', 'and', 'tender', 's', 'well', 'as', 'well', 'flavored'], ['this', 'place', 'is', 'good'], ['unfortunately', 'we', 'must', 'have', 'hit', 'the', 'bakery', 'on', 'leftover', 'day', 'because', 'everything', 'we', 'ordered', 'was', 'stale'], ['i', 'was', 'seated', 'immediately'], ['avoid', 'at', 'all', 'cost'], ['restaurant', 'is', 'always', 'full', 'but', 'never', 'a', 'wait'], ['delicious'], ['this', 'place', 'is', 'hands', 'down', 'one', 'of', 'the', 'best', 'places', 'to', 'eat', 'in', 'the', 'phoenix', 'metro', 'area'], ['we', 'also', 'ordered', 'the', 'spinach', 'and', 'avocado', 'salad', 'the', 'ingredients', 'were', 'sad', 'and', 'the', 'dressing', 'literally', 'had', 'zero', 'taste'], ['the', 'waitresses', 'are', 'very', 'friendly'], ['lordy', 'the', 'khao', 'soi', 'is', 'a', 'dish', 'that', 'is', 'not', 'to', 'be', 'missed', 'for', 'curry', 'lovers'], ['the', 'atmosphere', 'is', 'modern', 'and', 'hip', 'while', 'maintaining', 'a', 'touch', 'of', 'coziness'], ['i', 'also', 'decided', 'not', 'to', 'send', 'it', 'back', 'because', 'our', 'waitress', 'looked', 'like', 'she', 'was', 'on', 'the', 'verge', 'of', 'having', 'a', 'heart', 'attack'], ['i', 'dressed', 'up', 'to', 'be', 'treated', 'so', 'rudely'], ['i', 'ordered', 'the', 'lemon', 'raspberry', 'ice', 'cocktail', 'which', 'was', 'also', 'incredible'], ['the', 'food', 'sucked', 'which', 'we', 'expected', 'but', 'it', 'sucked', 'more', 'than', 'we', 'could', 'have', 'imagined'], ['interesting', 'decor'], ['what', 'i', 'really', 'like', 'there', 'is', 'the', 'crepe', 'station'], ['you', 'can', 'watch', 'them', 'preparing', 'the', 'delicious', 'food'], ['i', 'had', 'a', 'salad', 'with', 'the', 'wings', 'and', 'some', 'ice', 'cream', 'for', 'dessert', 'and', 'left', 'feeling', 'quite', 'satisfied'], ['the', 'live', 'music', 'on', 'fridays', 'totally', 'blows'], ['i', 've', 'never', 'been', 'more', 'insulted', 'or', 'felt', 'disrespected'], ['great', 'brunch', 'spot'], ['service', 'is', 'friendly', 'and', 'inviting'], ['very', 'good', 'lunch', 'spot'], ['the', 'worst', 'experience', 'ever'], ['the', 'sides', 'are', 'delish', 'mixed', 'mushrooms', 'yukon', 'gold', 'puree', 'white', 'corn', 'beateous'], ['if', 'that', 'bug', 'never', 'showed', 'up', 'i', 'would', 'have', 'given', 'a', '4', 'for', 'sure', 'but', 'on', 'the', 'other', 'side', 'of', 'the', 'wall', 'where', 'this', 'bug', 'was', 'climbing', 'was', 'the', 'kitchen'], ['my', 'friend', 'loved', 'the', 'salmon', 'tartar'], ['soggy', 'and', 'not', 'good'], ['which', 'are', 'small', 'and', 'not', 'worth', 'the', 'price'], ['hopefully', 'this', 'bodes', 'for', 'them', 'going', 'out', 'of', 'business', 'and', 'someone', 'who', 'can', 'cook', 'can', 'come', 'in'], ['i', 'loved', 'the', 'bacon', 'wrapped', 'dates'], ['this', 'is', 'an', 'unbelievable', 'bargain'], ['as', 'for', 'the', 'mains', 'also', 'uninspired'], ['very', 'very', 'fun', 'chef'], ['great', 'place', 'to', 'have', 'a', 'couple', 'drinks', 'and', 'watch', 'any', 'and', 'all', 'sporting', 'events', 'as', 'the', 'walls', 'are', 'covered', 'with', 'tv', 's'], ['i', 'd', 'say', 'that', 'would', 'be', 'the', 'hardest', 'decision', 'honestly', 'all', 'of', 'm', 's', 'dishes', 'taste', 'how', 'they', 'are', 'supposed', 'to', 'taste', 'amazing'], ['by', 'this', 'time', 'our', 'side', 'of', 'the', 'restaurant', 'was', 'almost', 'empty', 'so', 'there', 'was', 'no', 'excuse'], ['drinks', 'took', 'close', 'to', '30', 'minutes', 'to', 'come', 'out', 'at', 'one', 'point'], ['the', 'lighting', 'is', 'just', 'dark', 'enough', 'to', 'set', 'the', 'mood'], ['based', 'on', 'the', 'sub', 'par', 'service', 'i', 'received', 'and', 'no', 'effort', 'to', 'show', 'their', 'gratitude', 'for', 'my', 'business', 'i', 'won', 't', 'be', 'going', 'back'], ['owner', 's', 'are', 'really', 'great', 'people'], ['the', 'greek', 'dressing', 'was', 'very', 'creamy', 'and', 'flavorful'], ['now', 'the', 'pizza', 'itself', 'was', 'good', 'the', 'peanut', 'sauce', 'was', 'very', 'tasty'], ['we', 'had', '7', 'at', 'our', 'table', 'and', 'the', 'service', 'was', 'pretty', 'fast'], ['i', 'as', 'well', 'would', 've', 'given', 'godfathers', 'zero', 'stars', 'if', 'possible'], ['they', 'know', 'how', 'to', 'make', 'them', 'here'], ['the', 'restaurant', 'atmosphere', 'was', 'exquisite'], ['good', 'service', 'very', 'clean', 'and', 'inexpensive', 'to', 'boot'], ['plus', 'it', 's', 'only', '8', 'bucks'], ['the', 'service', 'was', 'not', 'up', 'to', 'par', 'either'], ['thus', 'far', 'have', 'only', 'visited', 'twice', 'and', 'the', 'food', 'was', 'absolutely', 'delicious', 'each', 'time'], ['just', 'as', 'good', 'as', 'when', 'i', 'had', 'it', 'more', 'than', 'a', 'year', 'ago'], ['for', 'a', 'self', 'proclaimed', 'coffee', 'cafe', 'i', 'was', 'wildly', 'disappointed'], ['the', 'veggitarian', 'platter', 'is', 'out', 'of', 'this', 'world'], ['you', 'cant', 'go', 'wrong', 'with', 'any', 'of', 'the', 'food', 'here'], ['stopped', 'by', 'this', 'place', 'while', 'in', 'madison', 'for', 'the', 'ironman', 'very', 'friendly', 'kind', 'staff'], ['the', 'chefs', 'were', 'friendly', 'and', 'did', 'a', 'good', 'job'], ['i', 've', 'had', 'better', 'not', 'only', 'from', 'dedicated', 'boba', 'tea', 'spots', 'but', 'even', 'from', 'jenni', 'pho'], ['i', 'liked', 'the', 'patio', 'and', 'the', 'service', 'was', 'outstanding'], ['i', 'think', 'not', 'again'], ['i', 'had', 'the', 'mac', 'salad', 'and', 'it', 'was', 'pretty', 'bland', 'so', 'i', 'will', 'not', 'be', 'getting', 'that', 'again'], ['service', 'stinks', 'here'], ['i', 'waited', 'and', 'waited'], ['i', 'would', 'definitely', 'recommend', 'the', 'wings', 'as', 'well', 'as', 'the', 'pizza'], ['things', 'that', 'went', 'wrong', 'they', 'burned', 'the', 'saganaki'], ['we', 'waited', 'an', 'hour', 'for', 'what', 'was', 'a', 'breakfast', 'i', 'could', 'have', 'done', '100', 'times', 'better', 'at', 'home'], ['waited', '2', 'hours', 'never', 'got', 'either', 'of', 'our', 'pizzas', 'as', 'many', 'other', 'around', 'us', 'who', 'came', 'in', 'later', 'did'], ['just', 'don', 't', 'know', 'why', 'they', 'were', 'so', 'slow'], ['the', 'staff', 'is', 'great', 'the', 'food', 'is', 'delish', 'and', 'they', 'have', 'an', 'incredible', 'beer', 'selection'], ['i', 'didn', 't', 'know', 'pulled', 'pork', 'could', 'be', 'soooo', 'delicious'], ['you', 'get', 'incredibly', 'fresh', 'fish', 'prepared', 'with', 'care'], ['the', 'food', 'was', 'excellent', 'and', 'service', 'was', 'very', 'good'], ['good', 'beer', 'drink', 'selection', 'and', 'good', 'food', 'selection'], ['the', 'potato', 'chip', 'order', 'was', 'sad', 'i', 'could', 'probably', 'count', 'how', 'many', 'chips', 'were', 'in', 'that', 'box', 'and', 'it', 'was', 'probably', 'around', '12'], ['food', 'was', 'really', 'boring'], ['good', 'service', 'check'], ['as', 'much', 'as', 'i', 'd', 'like', 'to', 'go', 'back', 'i', 'can', 't', 'get', 'passed', 'the', 'atrocious', 'service', 'and', 'will', 'never', 'return'], ['i', 'did', 'not', 'expect', 'this', 'to', 'be', 'so', 'good'], ['never', 'going', 'back'], ['the', 'bus', 'boy', 'on', 'the', 'other', 'hand', 'was', 'so', 'rude'], ['by', 'this', 'point', 'my', 'friends', 'and', 'i', 'had', 'basically', 'figured', 'out', 'this', 'place', 'was', 'a', 'joke', 'and', 'didn', 't', 'mind', 'making', 'it', 'publicly', 'and', 'loudly', 'known'], ['the', 'only', 'downside', 'is', 'the', 'service'], ['also', 'the', 'fries', 'are', 'without', 'a', 'doubt', 'the', 'worst', 'fries', 'i', 've', 'ever', 'had'], ['a', 'couple', 'of', 'months', 'later', 'i', 'returned', 'and', 'had', 'an', 'amazing', 'meal'], ['favorite', 'place', 'in', 'town', 'for', 'shawarrrrrrma'], ['they', 'could', 'serve', 'it', 'with', 'just', 'the', 'vinaigrette', 'and', 'it', 'may', 'make', 'for', 'a', 'better', 'overall', 'dish', 'but', 'it', 'was', 'still', 'very', 'good'], ['when', 'my', 'mom', 'and', 'i', 'got', 'home', 'she', 'immediately', 'got', 'sick', 'and', 'she', 'only', 'had', 'a', 'few', 'bites', 'of', 'salad'], ['the', 'servers', 'are', 'not', 'pleasant', 'to', 'deal', 'with', 'and', 'they', 'don', 't', 'always', 'honor', 'pizza', 'hut', 'coupons'], ['everything', 'was', 'gross'], ['the', 'spaghetti', 'is', 'nothing', 'special', 'whatsoever'], ['the', 'vegetables', 'are', 'so', 'fresh', 'and', 'the', 'sauce', 'feels', 'like', 'authentic', 'thai'], ['it', 's', 'worth', 'driving', 'up', 'from', 'tucson'], ['the', 'selection', 'was', 'probably', 'the', 'worst', 'i', 've', 'seen', 'in', 'vegas', 'there', 'was', 'none'], ['this', 'place', 'is', 'like', 'chipotle', 'but', 'better'], ['5', 'stars', 'for', 'the', 'brick', 'oven', 'bread', 'app'], ['i', 'have', 'eaten', 'here', 'multiple', 'times', 'and', 'each', 'time', 'the', 'food', 'was', 'delicious'], ['on', 'the', 'good', 'side', 'the', 'staff', 'was', 'genuinely', 'pleasant', 'and', 'enthusiastic', 'a', 'real', 'treat'], ['as', 'always', 'the', 'evening', 'was', 'wonderful', 'and', 'the', 'food', 'delicious'], ['the', 'buffet', 'is', 'small', 'and', 'all', 'the', 'food', 'they', 'offered', 'was', 'bland'], ['pretty', 'cool', 'i', 'would', 'say'], ['my', 'wife', 'had', 'the', 'lobster', 'bisque', 'soup', 'which', 'was', 'lukewarm'], ['the', 'staff', 'are', 'great', 'the', 'ambiance', 'is', 'great'], ['the', 'dining', 'space', 'is', 'tiny', 'but', 'elegantly', 'decorated', 'and', 'comfortable'], ['they', 'will', 'customize', 'your', 'order', 'any', 'way', 'you', 'd', 'like', 'my', 'usual', 'is', 'eggplant', 'with', 'green', 'bean', 'stir', 'fry', 'love', 'it'], ['and', 'the', 'beans', 'and', 'rice', 'were', 'mediocre', 'at', 'best'], ['best', 'tacos', 'in', 'town', 'by', 'far'], ['i', 'took', 'back', 'my', 'money', 'and', 'got', 'outta', 'there'], ['in', 'an', 'interesting', 'part', 'of', 'town', 'this', 'place', 'is', 'amazing'], ['the', 'staff', 'are', 'now', 'not', 'as', 'friendly', 'the', 'wait', 'times', 'for', 'being', 'served', 'are', 'horrible', 'no', 'one', 'even', 'says', 'hi', 'for', 'the', 'first', '10', 'minutes'], ['i', 'won', 't', 'be', 'back'], ['the', 'service', 'was', 'outshining', 'i', 'definitely', 'recommend', 'the', 'halibut'], ['the', 'food', 'was', 'terrible'], ['will', 'never', 'ever', 'go', 'back', 'and', 'have', 'told', 'many', 'people', 'what', 'had', 'happened'], ['i', 'don', 't', 'recommend', 'unless', 'your', 'car', 'breaks', 'down', 'in', 'front', 'of', 'it', 'and', 'you', 'are', 'starving'], ['i', 'will', 'come', 'back', 'here', 'every', 'time', 'i', 'm', 'in', 'vegas'], ['this', 'is', 'a', 'disgrace'], ['if', 'you', 'want', 'healthy', 'authentic', 'or', 'ethic', 'food', 'try', 'this', 'place'], ['i', 'have', 'been', 'here', 'several', 'times', 'in', 'the', 'past', 'and', 'the', 'experience', 'has', 'always', 'been', 'great'], ['service', 'was', 'excellent', 'and', 'prices', 'are', 'pretty', 'reasonable', 'considering', 'this', 'is', 'vegas', 'and', 'located', 'inside', 'the', 'crystals', 'shopping', 'mall', 'by', 'aria'], ['kids', 'pizza', 'is', 'always', 'a', 'hit', 'too', 'with', 'lots', 'of', 'great', 'side', 'dish', 'options', 'for', 'the', 'kiddos'], ['service', 'is', 'perfect', 'and', 'the', 'family', 'atmosphere', 'is', 'nice', 'to', 'see'], ['great', 'place', 'to', 'eat', 'reminds', 'me', 'of', 'the', 'little', 'mom', 'and', 'pop', 'shops', 'in', 'the', 'san', 'francisco', 'bay', 'area'], ['today', 'was', 'my', 'first', 'taste', 'of', 'a', 'buldogis', 'gourmet', 'hot', 'dog', 'and', 'i', 'have', 'to', 'tell', 'you', 'it', 'was', 'more', 'than', 'i', 'ever', 'thought', 'possible'], ['left', 'very', 'frustrated'], ['i', 'll', 'definitely', 'be', 'in', 'soon', 'again'], ['food', 'was', 'really', 'good', 'and', 'i', 'got', 'full', 'petty', 'fast'], ['total', 'waste', 'of', 'time'], ['for', 'service', 'i', 'give', 'them', 'no', 'stars'], ['gave', 'up', 'trying', 'to', 'eat', 'any', 'of', 'the', 'crust', 'teeth', 'still', 'sore'], ['but', 'now', 'i', 'was', 'completely', 'grossed', 'out'], ['first', 'time', 'going', 'but', 'i', 'think', 'i', 'will', 'quickly', 'become', 'a', 'regular'], ['from', 'what', 'my', 'dinner', 'companions', 'told', 'me', 'everything', 'was', 'very', 'fresh', 'with', 'nice', 'texture', 'and', 'taste'], ['on', 'the', 'ground', 'right', 'next', 'to', 'our', 'table', 'was', 'a', 'large', 'smeared', 'been', 'stepped', 'in', 'and', 'tracked', 'everywhere', 'pile', 'of', 'green', 'bird', 'poop'], ['this', 'is', 'some', 'seriously', 'good', 'pizza', 'and', 'i', 'm', 'an', 'expert', 'connisseur', 'on', 'the', 'topic'], ['waiter', 'was', 'a', 'jerk'], ['these', 'are', 'the', 'nicest', 'restaurant', 'owners', 'i', 've', 'ever', 'come', 'across'], ['service', 'is', 'quick', 'and', 'friendly'], ['it', 'was', 'a', 'huge', 'awkward', '1', '5lb', 'piece', 'of', 'cow', 'that', 'was', '3', '4ths', 'gristle', 'and', 'fat'], ['wow', 'very', 'spicy', 'but', 'delicious'], ['i', 'll', 'take', 'my', 'business', 'dinner', 'dollars', 'elsewhere'], ['i', 'd', 'love', 'to', 'go', 'back'], ['anyway', 'this', 'fs', 'restaurant', 'has', 'a', 'wonderful', 'breakfast', 'lunch'], ['each', 'day', 'of', 'the', 'week', 'they', 'have', 'a', 'different', 'deal', 'and', 'it', 's', 'all', 'so', 'delicious'], ['not', 'to', 'mention', 'the', 'combination', 'of', 'pears', 'almonds', 'and', 'bacon', 'is', 'a', 'big', 'winner'], ['sauce', 'was', 'tasteless'], ['the', 'food', 'is', 'delicious', 'and', 'just', 'spicy', 'enough', 'so', 'be', 'sure', 'to', 'ask', 'for', 'spicier', 'if', 'you', 'prefer', 'it', 'that', 'way'], ['food', 'was', 'so', 'gooodd'], ['the', 'last', '3', 'times', 'i', 'had', 'lunch', 'here', 'has', 'been', 'bad'], ['the', 'chicken', 'wings', 'contained', 'the', 'driest', 'chicken', 'meat', 'i', 'have', 'ever', 'eaten'], ['the', 'food', 'was', 'very', 'good', 'and', 'i', 'enjoyed', 'every', 'mouthful', 'an', 'enjoyable', 'relaxed', 'venue', 'for', 'couples', 'small', 'family', 'groups', 'etc'], ['best', 'tater', 'tots', 'in', 'the', 'southwest'], ['im', 'in', 'az', 'all', 'the', 'time', 'and', 'now', 'have', 'my', 'new', 'spot'], ['the', 'manager', 'was', 'the', 'worst'], ['i', 'don', 't', 'think', 'i', 'll', 'be', 'running', 'back', 'to', 'carly', 's', 'anytime', 'soon', 'for', 'food'], ['don', 't', 'waste', 'your', 'time', 'here'], ['total', 'letdown', 'i', 'would', 'much', 'rather', 'just', 'go', 'to', 'the', 'camelback', 'flower', 'shop', 'and', 'cartel', 'coffee'], ['the', 'steaks', 'are', 'all', 'well', 'trimmed', 'and', 'also', 'perfectly', 'cooked'], ['we', 'had', 'a', 'group', 'of', '70', 'when', 'we', 'claimed', 'we', 'would', 'only', 'have', '40', 'and', 'they', 'handled', 'us', 'beautifully'], ['i', 'loved', 'it'], ['we', 'asked', 'for', 'the', 'bill', 'to', 'leave', 'without', 'eating', 'and', 'they', 'didn', 't', 'bring', 'that', 'either'], ['seafood', 'was', 'limited', 'to', 'boiled', 'shrimp', 'and', 'crab', 'legs', 'but', 'the', 'crab', 'legs', 'definitely', 'did', 'not', 'taste', 'fresh'], ['delicious', 'and', 'i', 'will', 'absolutely', 'be', 'back'], ['this', 'isn', 't', 'a', 'small', 'family', 'restaurant', 'this', 'is', 'a', 'fine', 'dining', 'establishment'], ['i', 'dont', 'think', 'i', 'will', 'be', 'back', 'for', 'a', 'very', 'long', 'time'], ['i', 'will', 'be', 'back', 'many', 'times', 'soon'], ['and', 'then', 'tragedy', 'struck'], ['waitress', 'was', 'sweet', 'and', 'funny'], ['i', 'also', 'had', 'to', 'taste', 'my', 'mom', 's', 'multi', 'grain', 'pumpkin', 'pancakes', 'with', 'pecan', 'butter', 'and', 'they', 'were', 'amazing', 'fluffy', 'and', 'delicious'], ['cant', 'say', 'enough', 'good', 'things', 'about', 'this', 'place'], ['the', 'waitress', 'and', 'manager', 'are', 'so', 'friendly'], ['i', 'would', 'not', 'recommend', 'this', 'place'], ['overall', 'i', 'wasn', 't', 'very', 'impressed', 'with', 'noca'], ['everything', 'was', 'perfect', 'the', 'night', 'we', 'were', 'in'], ['the', 'food', 'is', 'very', 'good', 'for', 'your', 'typical', 'bar', 'food'], ['at', 'first', 'glance', 'it', 'is', 'a', 'lovely', 'bakery', 'cafe', 'nice', 'ambiance', 'clean', 'friendly', 'staff'], ['anyway', 'i', 'do', 'not', 'think', 'i', 'will', 'go', 'back', 'there'], ['oh', 'this', 'is', 'such', 'a', 'thing', 'of', 'beauty', 'this', 'restaurant'], ['if', 'you', 'haven', 't', 'gone', 'here', 'go', 'now'], ['a', 'greasy', 'unhealthy', 'meal'], ['those', 'burgers', 'were', 'amazing'], ['be', 'sure', 'to', 'order', 'dessert', 'even', 'if', 'you', 'need', 'to', 'pack', 'it', 'to', 'go', 'the', 'tiramisu', 'and', 'cannoli', 'are', 'both', 'to', 'die', 'for'], ['this', 'was', 'my', 'first', 'time', 'and', 'i', 'can', 't', 'wait', 'until', 'the', 'next'], ['this', 'place', 'is', 'two', 'thumbs', 'up', 'way', 'up'], ['terrible', 'management'], ['great', 'steak', 'great', 'sides', 'great', 'wine', 'amazing', 'desserts'], ['the', 'steak', 'and', 'the', 'shrimp', 'are', 'in', 'my', 'opinion', 'the', 'best', 'entrees', 'at', 'gc'], ['we', 'waited', 'for', 'thirty', 'minutes', 'to', 'be', 'seated', 'although', 'there', 'were', '8', 'vacant', 'tables', 'and', 'we', 'were', 'the', 'only', 'folks', 'waiting'], ['i', 'won', 't', 'try', 'going', 'back', 'there', 'even', 'if', 'it', 's', 'empty'], ['just', 'spicy', 'enough', 'perfect', 'actually'], ['last', 'night', 'was', 'my', 'second', 'time', 'dining', 'here', 'and', 'i', 'was', 'so', 'happy', 'i', 'decided', 'to', 'go', 'back'], ['the', 'desserts', 'were', 'a', 'bit', 'strange'], ['my', 'boyfriend', 'and', 'i', 'came', 'here', 'for', 'the', 'first', 'time', 'on', 'a', 'recent', 'trip', 'to', 'vegas', 'and', 'could', 'not', 'have', 'been', 'more', 'pleased', 'with', 'the', 'quality', 'of', 'food', 'and', 'service'], ['nice', 'ambiance'], ['i', 'would', 'recommend', 'saving', 'room', 'for', 'this'], ['a', 'good', 'time'], ['generous', 'portions', 'and', 'great', 'taste'], ['food', 'was', 'delicious'], ['i', 'consider', 'this', 'theft'], ['we', 'recently', 'witnessed', 'her', 'poor', 'quality', 'of', 'management', 'towards', 'other', 'guests', 'as', 'well'], ['waited', 'and', 'waited', 'and', 'waited'], ['i', 'swung', 'in', 'to', 'give', 'them', 'a', 'try', 'but', 'was', 'deeply', 'disappointed'], ['service', 'was', 'good', 'and', 'the', 'company', 'was', 'better'], ['the', 'staff', 'are', 'also', 'very', 'friendly', 'and', 'efficient'], ['if', 'you', 'look', 'for', 'authentic', 'thai', 'food', 'go', 'else', 'where'], ['their', 'steaks', 'are', '100', 'recommended'], ['i', 'hate', 'those', 'things', 'as', 'much', 'as', 'cheap', 'quality', 'black', 'olives'], ['the', 'kids', 'play', 'area', 'is', 'nasty'], ['great', 'place', 'fo', 'take', 'out', 'or', 'eat', 'in'], ['the', 'waitress', 'was', 'friendly', 'and', 'happy', 'to', 'accomodate', 'for', 'vegan', 'veggie', 'options'], ['it', 'was', 'a', 'pale', 'color', 'instead', 'of', 'nice', 'and', 'char', 'and', 'has', 'no', 'flavor'], ['the', 'croutons', 'also', 'taste', 'homemade', 'which', 'is', 'an', 'extra', 'plus'], ['i', 'got', 'home', 'to', 'see', 'the', 'driest', 'damn', 'wings', 'ever'], ['i', 'really', 'enjoyed', 'crema', 'caf\\xc3\\xa9', 'before', 'they', 'expanded', 'i', 'even', 'told', 'friends', 'they', 'had', 'the', 'best', 'breakfast'], ['not', 'good', 'for', 'the', 'money'], ['i', 'miss', 'it', 'and', 'wish', 'they', 'had', 'one', 'in', 'philadelphia'], ['they', 'also', 'have', 'the', 'best', 'cheese', 'crisp', 'in', 'town'], ['good', 'value', 'great', 'food', 'great', 'service'], ['the', 'food', 'is', 'good'], ['it', 'was', 'awesome'], ['we', 'made', 'the', 'drive', 'all', 'the', 'way', 'from', 'north', 'scottsdale', 'and', 'i', 'was', 'not', 'one', 'bit', 'disappointed'], ['the', 'owners', 'really', 'really', 'need', 'to', 'quit', 'being', 'soooooo', 'cheap', 'let', 'them', 'wrap', 'my', 'freaking', 'sandwich', 'in', 'two', 'papers', 'not', 'one'], ['i', 'checked', 'out', 'this', 'place', 'a', 'couple', 'years', 'ago', 'and', 'was', 'not', 'impressed'], ['the', 'chicken', 'i', 'got', 'was', 'definitely', 'reheated', 'and', 'was', 'only', 'ok', 'the', 'wedges', 'were', 'cold', 'and', 'soggy'], ['an', 'absolute', 'must', 'visit'], ['despite', 'how', 'hard', 'i', 'rate', 'businesses', 'its', 'actually', 'rare', 'for', 'me', 'to', 'give', 'a', '1', 'star'], ['i', 'will', 'not', 'return'], ['i', 'had', 'the', 'chicken', 'pho', 'and', 'it', 'tasted', 'very', 'bland'], ['the', 'grilled', 'chicken', 'was', 'so', 'tender', 'and', 'yellow', 'from', 'the', 'saffron', 'seasoning'], ['pretty', 'awesome', 'place'], ['the', 'staff', 'is', 'always', 'super', 'friendly', 'and', 'helpful', 'which', 'is', 'especially', 'cool', 'when', 'you', 'bring', 'two', 'small', 'boys', 'and', 'a', 'baby'], ['four', 'stars', 'for', 'the', 'food', 'the', 'guy', 'in', 'the', 'blue', 'shirt', 'for', 'his', 'great', 'vibe', 'still', 'letting', 'us', 'in', 'to', 'eat'], ['the', 'roast', 'beef', 'sandwich', 'tasted', 'really', 'good'], ['ordered', 'burger', 'rare', 'came', 'in', 'we', 'll', 'done'], ['i', 'was', 'proven', 'dead', 'wrong', 'by', 'this', 'sushi', 'bar', 'not', 'only', 'because', 'the', 'quality', 'is', 'great', 'but', 'the', 'service', 'is', 'fast', 'and', 'the', 'food', 'impeccable'], ['this', 'is', 'a', 'good', 'joint'], ['i', 'm', 'not', 'eating', 'here'], ['this', 'place', 'has', 'a', 'lot', 'of', 'promise', 'but', 'fails', 'to', 'deliver'], ['very', 'bad', 'experience'], ['what', 'a', 'mistake'], ['food', 'was', 'average', 'at', 'best'], ['we', 'won', 't', 'be', 'going', 'back', 'anytime', 'soon'], ['very', 'very', 'disappointed', 'ordered', 'the', '35', 'big', 'bay', 'plater'], ['great', 'place', 'to', 'relax', 'and', 'have', 'an', 'awesome', 'burger', 'and', 'beer'], ['it', 'is', 'perfect', 'for', 'a', 'sit', 'down', 'family', 'meal', 'or', 'get', 'together', 'with', 'a', 'few', 'friends'], ['not', 'much', 'flavor', 'to', 'them', 'and', 'very', 'poorly', 'constructed'], ['the', 'patio', 'seating', 'was', 'very', 'comfortable'], ['the', 'fried', 'rice', 'was', 'dry', 'as', 'well'], ['i', 'personally', 'love', 'the', 'hummus', 'pita', 'baklava', 'falafels', 'and', 'baba', 'ganoush', 'it', 's', 'amazing', 'what', 'they', 'do', 'with', 'eggplant'], ['the', 'owners', 'are', 'super', 'friendly', 'and', 'the', 'staff', 'is', 'courteous'], ['both', 'great'], ['eclectic', 'selection'], ['the', 'staff', 'was', 'very', 'attentive'], ['and', 'the', 'chef', 'was', 'generous', 'with', 'his', 'time', 'even', 'came', 'around', 'twice', 'so', 'we', 'can', 'take', 'pictures', 'with', 'him'], ['the', 'owner', 'used', 'to', 'work', 'at', 'nobu', 'so', 'this', 'place', 'is', 'really', 'similar', 'for', 'half', 'the', 'price'], ['i', 'can', 't', 'wait', 'to', 'go', 'back'], ['the', 'plantains', 'were', 'the', 'worst', 'i', 've', 'ever', 'tasted'], ['it', 's', 'a', 'great', 'place', 'and', 'i', 'highly', 'recommend', 'it'], ['your', 'staff', 'spends', 'more', 'time', 'talking', 'to', 'themselves', 'than', 'me'], ['damn', 'good', 'steak'], ['total', 'brunch', 'fail'], ['the', 'decor', 'is', 'nice', 'and', 'the', 'piano', 'music', 'soundtrack', 'is', 'pleasant'], ['i', 'probably', 'won', 't', 'be', 'back', 'to', 'be', 'honest'], ['the', 'sergeant', 'pepper', 'beef', 'sandwich', 'with', 'auju', 'sauce', 'is', 'an', 'excellent', 'sandwich', 'as', 'well'], ['went', 'for', 'lunch', 'service', 'was', 'slow'], ['we', 'had', 'so', 'much', 'to', 'say', 'about', 'the', 'place', 'before', 'we', 'walked', 'in', 'that', 'he', 'expected', 'it', 'to', 'be', 'amazing', 'but', 'was', 'quickly', 'disappointed'], ['i', 'was', 'mortified'], ['i', 'wasn', 't', 'really', 'impressed', 'with', 'strip', 'steak'], ['have', 'been', 'going', 'since', '2007', 'and', 'every', 'meal', 'has', 'been', 'awesome'], ['the', 'cashier', 'was', 'friendly', 'and', 'even', 'brought', 'the', 'food', 'out', 'to', 'me'], ['would', 'not', 'recommend', 'to', 'others'], ['i', 'mean', 'really', 'how', 'do', 'you', 'get', 'so', 'famous', 'for', 'your', 'fish', 'and', 'chips', 'when', 'it', 's', 'so', 'terrible'], ['2', 'thumbs', 'up'], ['they', 'have', 'a', 'really', 'nice', 'atmosphere'], ['tonight', 'i', 'had', 'the', 'elk', 'filet', 'special', 'and', 'it', 'sucked'], ['we', 'ordered', 'some', 'old', 'classics', 'and', 'some', 'new', 'dishes', 'after', 'going', 'there', 'a', 'few', 'times', 'and', 'were', 'sorely', 'disappointed', 'with', 'everything'], ['cute', 'quaint', 'simple', 'honest'], ['the', 'chicken', 'was', 'deliciously', 'seasoned', 'and', 'had', 'the', 'perfect', 'fry', 'on', 'the', 'outside', 'and', 'moist', 'chicken', 'on', 'the', 'inside'], ['special', 'thanks', 'to', 'dylan', 't', 'for', 'the', 'recommendation', 'on', 'what', 'to', 'order', 'all', 'yummy', 'for', 'my', 'tummy'], ['great', 'food', 'and', 'awesome', 'service'], ['a', 'fly', 'was', 'in', 'my', 'apple', 'juice', 'a', 'fly'], ['the', 'food', 'was', 'barely', 'lukewarm', 'so', 'it', 'must', 'have', 'been', 'sitting', 'waiting', 'for', 'the', 'server', 'to', 'bring', 'it', 'out', 'to', 'us'], ['overall', 'i', 'like', 'there', 'food', 'and', 'the', 'service'], ['they', 'also', 'now', 'serve', 'indian', 'naan', 'bread', 'with', 'hummus', 'and', 'some', 'spicy', 'pine', 'nut', 'sauce', 'that', 'was', 'out', 'of', 'this', 'world'], ['probably', 'never', 'coming', 'back', 'and', 'wouldn', 't', 'recommend', 'it'], ['try', 'them', 'in', 'the', 'airport', 'to', 'experience', 'some', 'tasty', 'food', 'and', 'speedy', 'friendly', 'service'], ['never', 'had', 'anything', 'to', 'complain', 'about', 'here'], ['the', 'restaurant', 'is', 'very', 'clean', 'and', 'has', 'a', 'family', 'restaurant', 'feel', 'to', 'it'], ['it', 'was', 'way', 'over', 'fried'], ['will', 'not', 'be', 'back'], ['an', 'extensive', 'menu', 'provides', 'lots', 'of', 'options', 'for', 'breakfast'], ['i', 'have', 'watched', 'their', 'prices', 'inflate', 'portions', 'get', 'smaller', 'and', 'management', 'attitudes', 'grow', 'rapidly'], ['wonderful', 'lil', 'tapas', 'and', 'the', 'ambience', 'made', 'me', 'feel', 'all', 'warm', 'and', 'fuzzy', 'inside'], ['level', '5', 'spicy', 'was', 'perfect', 'where', 'spice', 'didn', 't', 'over', 'whelm', 'the', 'soup'], ['when', 'i', 'm', 'on', 'this', 'side', 'of', 'town', 'this', 'will', 'definitely', 'be', 'a', 'spot', 'i', 'll', 'hit', 'up', 'again'], ['the', 'chicken', 'dishes', 'are', 'ok', 'the', 'beef', 'is', 'like', 'shoe', 'leather'], ['the', 'block', 'was', 'amazing'], ['both', 'the', 'hot', 'sour', 'the', 'egg', 'flower', 'soups', 'were', 'absolutely', '5', 'stars'], ['great', 'time', 'family', 'dinner', 'on', 'a', 'sunday', 'night'], ['what', 'did', 'bother', 'me', 'was', 'the', 'slow', 'service'], ['their', 'frozen', 'margaritas', 'are', 'way', 'too', 'sugary', 'for', 'my', 'taste'], ['unfortunately', 'it', 'was', 'not', 'good'], ['i', 'had', 'a', 'pretty', 'satifying', 'experience'], ['bland', 'and', 'flavorless', 'is', 'a', 'good', 'way', 'of', 'describing', 'the', 'barely', 'tepid', 'meat'], ['the', 'chains', 'which', 'i', 'm', 'no', 'fan', 'of', 'beat', 'this', 'place', 'easily'], ['once', 'your', 'food', 'arrives', 'it', 's', 'meh'], ['paying', '7', '85', 'for', 'a', 'hot', 'dog', 'and', 'fries', 'that', 'looks', 'like', 'it', 'came', 'out', 'of', 'a', 'kid', 's', 'meal', 'at', 'the', 'wienerschnitzel', 'is', 'not', 'my', 'idea', 'of', 'a', 'good', 'meal'], ['my', 'brother', 'in', 'law', 'who', 'works', 'at', 'the', 'mall', 'ate', 'here', 'same', 'day', 'and', 'guess', 'what', 'he', 'was', 'sick', 'all', 'night', 'too'], ['so', 'good', 'i', 'am', 'going', 'to', 'have', 'to', 'review', 'this', 'place', 'twice', 'once', 'hereas', 'a', 'tribute', 'to', 'the', 'place', 'and', 'once', 'as', 'a', 'tribute', 'to', 'an', 'event', 'held', 'here', 'last', 'night'], ['the', 'chips', 'and', 'salsa', 'were', 'really', 'good', 'the', 'salsa', 'was', 'very', 'fresh'], ['mediocre', 'food'], ['once', 'you', 'get', 'inside', 'you', 'll', 'be', 'impressed', 'with', 'the', 'place'], ['and', 'service', 'was', 'super', 'friendly'], ['why', 'are', 'these', 'sad', 'little', 'vegetables', 'so', 'overcooked'], ['this', 'place', 'was', 'such', 'a', 'nice', 'surprise'], ['they', 'were', 'golden', 'crispy', 'and', 'delicious'], ['i', 'had', 'high', 'hopes', 'for', 'this', 'place', 'since', 'the', 'burgers', 'are', 'cooked', 'over', 'a', 'charcoal', 'grill', 'but', 'unfortunately', 'the', 'taste', 'fell', 'flat', 'way', 'flat'], ['i', 'could', 'eat', 'their', 'bruschetta', 'all', 'day', 'it', 'is', 'devine'], ['not', 'a', 'single', 'employee', 'came', 'out', 'to', 'see', 'if', 'we', 'were', 'ok', 'or', 'even', 'needed', 'a', 'water', 'refill', 'once', 'they', 'finally', 'served', 'us', 'our', 'food'], ['the', 'first', 'time', 'i', 'ever', 'came', 'here', 'i', 'had', 'an', 'amazing', 'experience', 'i', 'still', 'tell', 'people', 'how', 'awesome', 'the', 'duck', 'was'], ['the', 'server', 'was', 'very', 'negligent', 'of', 'our', 'needs', 'and', 'made', 'us', 'feel', 'very', 'unwelcome', 'i', 'would', 'not', 'suggest', 'this', 'place'], ['this', 'place', 'is', 'overpriced', 'not', 'consistent', 'with', 'their', 'boba', 'and', 'it', 'really', 'is', 'overpriced'], ['it', 'was', 'packed'], ['the', 'seasonal', 'fruit', 'was', 'fresh', 'white', 'peach', 'puree'], ['it', 'kept', 'getting', 'worse', 'and', 'worse', 'so', 'now', 'i', 'm', 'officially', 'done'], ['this', 'place', 'should', 'honestly', 'be', 'blown', 'up'], ['but', 'i', 'definitely', 'would', 'not', 'eat', 'here', 'again'], ['the', 'cr\\xc3\\xaape', 'was', 'delicate', 'and', 'thin', 'and', 'moist'], ['awful', 'service'], ['the', 'service', 'here', 'is', 'fair', 'at', 'best'], ['no', 'one', 'at', 'the', 'table', 'thought', 'the', 'food', 'was', 'above', 'average', 'or', 'worth', 'the', 'wait', 'that', 'we', 'had', 'for', 'it'], ['best', 'service', 'and', 'food', 'ever', 'maria', 'our', 'server', 'was', 'so', 'good', 'and', 'friendly', 'she', 'made', 'our', 'day'], ['they', 'were', 'excellent'], ['i', 'paid', 'the', 'bill', 'but', 'did', 'not', 'tip', 'because', 'i', 'felt', 'the', 'server', 'did', 'a', 'terrible', 'job'], ['just', 'had', 'lunch', 'here', 'and', 'had', 'a', 'great', 'experience'], ['the', 'food', 'came', 'out', 'at', 'a', 'good', 'pace'], ['i', 'ate', 'there', 'twice', 'on', 'my', 'last', 'visit', 'and', 'especially', 'enjoyed', 'the', 'salmon', 'salad'], ['we', 'could', 'not', 'believe', 'how', 'dirty', 'the', 'oysters', 'were'], ['i', 'would', 'not', 'recommend', 'this', 'place'], ['to', 'my', 'disbelief', 'each', 'dish', 'qualified', 'as', 'the', 'worst', 'version', 'of', 'these', 'foods', 'i', 'have', 'ever', 'tasted'], ['bad', 'day', 'or', 'not', 'i', 'have', 'a', 'very', 'low', 'tolerance', 'for', 'rude', 'customer', 'service', 'people', 'it', 'is', 'your', 'job', 'to', 'be', 'nice', 'and', 'polite', 'wash', 'dishes', 'otherwise'], ['the', 'potatoes', 'were', 'great', 'and', 'so', 'was', 'the', 'biscuit'], ['so', 'flavorful', 'and', 'has', 'just', 'the', 'perfect', 'amount', 'of', 'heat'], ['went', 'in', 'for', 'happy', 'hour', 'great', 'list', 'of', 'wines'], ['some', 'may', 'say', 'this', 'buffet', 'is', 'pricey', 'but', 'i', 'think', 'you', 'get', 'what', 'you', 'pay', 'for', 'and', 'this', 'place', 'you', 'are', 'getting', 'quite', 'a', 'lot'], ['this', 'place', 'is', 'pretty', 'good', 'nice', 'little', 'vibe', 'in', 'the', 'restaurant'], ['talk', 'about', 'great', 'customer', 'service', 'of', 'course', 'we', 'will', 'be', 'back'], ['i', 'love', 'their', 'fries', 'and', 'their', 'beans'], ['they', 'have', 'a', 'plethora', 'of', 'salads', 'and', 'sandwiches', 'and', 'everything', 'i', 've', 'tried', 'gets', 'my', 'seal', 'of', 'approval'], ['for', 'sushi', 'on', 'the', 'strip', 'this', 'is', 'the', 'place', 'to', 'go'], ['the', 'feel', 'of', 'the', 'dining', 'room', 'was', 'more', 'college', 'cooking', 'course', 'than', 'high', 'class', 'dining', 'and', 'the', 'service', 'was', 'slow', 'at', 'best'], ['i', 'started', 'this', 'review', 'with', 'two', 'stars', 'but', 'i', 'm', 'editing', 'it', 'to', 'give', 'it', 'only', 'one'], ['weird', 'vibe', 'from', 'owners'], ['there', 'was', 'hardly', 'any', 'meat'], ['i', 've', 'had', 'better', 'bagels', 'from', 'the', 'grocery', 'store'], ['i', 'love', 'the', 'owner', 'chef', 'his', 'one', 'authentic', 'japanese', 'cool', 'dude'], ['now', 'the', 'burgers', 'aren', 't', 'as', 'good', 'the', 'pizza', 'which', 'used', 'to', 'be', 'amazing', 'is', 'doughy', 'and', 'flavorless'], ['the', 'service', 'was', 'terrible', 'food', 'was', 'mediocre'], ['i', 'ordered', 'albondigas', 'soup', 'which', 'was', 'just', 'warm', 'and', 'tasted', 'like', 'tomato', 'soup', 'with', 'frozen', 'meatballs'], ['on', 'three', 'different', 'occasions', 'i', 'asked', 'for', 'well', 'done', 'or', 'medium', 'well', 'and', 'all', 'three', 'times', 'i', 'got', 'the', 'bloodiest', 'piece', 'of', 'meat', 'on', 'my', 'plate'], ['the', 'service', 'was', 'extremely', 'slow'], ['after', '20', 'minutes', 'wait', 'i', 'got', 'a', 'table'], ['no', 'allergy', 'warnings', 'on', 'the', 'menu', 'and', 'the', 'waitress', 'had', 'absolutely', 'no', 'clue', 'as', 'to', 'which', 'meals', 'did', 'or', 'did', 'not', 'contain', 'peanuts'], ['my', 'boyfriend', 'tried', 'the', 'mediterranean', 'chicken', 'salad', 'and', 'fell', 'in', 'love'], ['i', 'want', 'to', 'first', 'say', 'our', 'server', 'was', 'great', 'and', 'we', 'had', 'perfect', 'service'], ['the', 'pizza', 'selections', 'are', 'good'], ['i', 'had', 'strawberry', 'tea', 'which', 'was', 'good'], ['spend', 'your', 'money', 'elsewhere'], ['their', 'regular', 'toasted', 'bread', 'was', 'equally', 'satisfying', 'with', 'the', 'occasional', 'pats', 'of', 'butter', 'mmmm'], ['the', 'buffet', 'at', 'bellagio', 'was', 'far', 'from', 'what', 'i', 'anticipated'], ['and', 'the', 'drinks', 'are', 'weak', 'people'], ['my', 'order', 'was', 'not', 'correct'], ['very', 'very', 'sad'], ['i', 'm', 'not', 'impressed', 'with', 'the', 'concept', 'or', 'the', 'food'], ['i', 'got', 'food', 'poisoning', 'here', 'at', 'the', 'buffet'], ['they', 'brought', 'a', 'fresh', 'batch', 'of', 'fries', 'and', 'i', 'was', 'thinking', 'yay', 'something', 'warm', 'but', 'no'], ['what', 'should', 'have', 'been', 'a', 'hilarious', 'yummy', 'christmas', 'eve', 'dinner', 'to', 'remember', 'was', 'the', 'biggest', 'fail', 'of', 'the', 'entire', 'trip', 'for', 'us'], ['needless', 'to', 'say', 'i', 'won', 't', 'be', 'going', 'back', 'anytime', 'soon'], ['the', 'ri', 'style', 'calamari', 'was', 'a', 'joke'], ['it', 'was', 'so', 'bad', 'i', 'had', 'lost', 'the', 'heart', 'to', 'finish', 'it'], ['we', 'aren', 't', 'ones', 'to', 'make', 'a', 'scene', 'at', 'restaurants', 'but', 'i', 'just', 'don', 't', 'get', 'it', 'definitely', 'lost', 'the', 'love', 'after', 'this', 'one'], ['the', 'food', 'is', 'about', 'on', 'par', 'with', 'denny', 's', 'which', 'is', 'to', 'say', 'not', 'good', 'at', 'all'], ['waaaaaayyyyyyyyyy', 'over', 'rated', 'is', 'all', 'i', 'am', 'saying'], ['this', 'place', 'lacked', 'style'], ['the', 'sangria', 'was', 'about', 'half', 'of', 'a', 'glass', 'wine', 'full', 'and', 'was', '12', 'ridiculous'], ['don', 't', 'bother', 'coming', 'here'], ['the', 'building', 'itself', 'seems', 'pretty', 'neat', 'the', 'bathroom', 'is', 'pretty', 'trippy', 'but', 'i', 'wouldn', 't', 'eat', 'here', 'again'], ['probably', 'not', 'in', 'a', 'hurry', 'to', 'go', 'back'], ['not', 'good', 'by', 'any', 'stretch', 'of', 'the', 'imagination'], ['the', 'cashew', 'cream', 'sauce', 'was', 'bland', 'and', 'the', 'vegetables', 'were', 'undercooked'], ['it', 'was', 'a', 'bit', 'too', 'sweet', 'not', 'really', 'spicy', 'enough', 'and', 'lacked', 'flavor'], ['this', 'place', 'is', 'horrible', 'and', 'way', 'overpriced'], ['it', 'wasn', 't', 'busy', 'at', 'all', 'and', 'now', 'we', 'know', 'why'], ['the', 'ambiance', 'here', 'did', 'not', 'feel', 'like', 'a', 'buffet', 'setting', 'but', 'more', 'of', 'a', 'douchey', 'indoor', 'garden', 'for', 'tea', 'and', 'biscuits'], ['con', 'spotty', 'service'], ['the', 'fries', 'were', 'not', 'hot', 'and', 'neither', 'was', 'my', 'burger'], ['the', 'real', 'disappointment', 'was', 'our', 'waiter'], ['my', 'husband', 'said', 'she', 'was', 'very', 'rude', 'did', 'not', 'even', 'apologize', 'for', 'the', 'bad', 'food', 'or', 'anything'], ['she', 'was', 'quite', 'disappointed', 'although', 'some', 'blame', 'needs', 'to', 'be', 'placed', 'at', 'her', 'door'], ['del', 'taco', 'is', 'pretty', 'nasty', 'and', 'should', 'be', 'avoided', 'if', 'possible'], ['we', 've', 'have', 'gotten', 'a', 'much', 'better', 'service', 'from', 'the', 'pizza', 'place', 'next', 'door', 'than', 'the', 'services', 'we', 'received', 'from', 'this', 'restaurant'], ['the', 'ambiance', 'isn', 't', 'much', 'better'], ['unfortunately', 'it', 'only', 'set', 'us', 'up', 'for', 'disapppointment', 'with', 'our', 'entrees'], ['the', 'food', 'wasn', 't', 'good'], ['too', 'bad', 'cause', 'i', 'know', 'it', 's', 'family', 'owned', 'i', 'really', 'wanted', 'to', 'like', 'this', 'place'], ['i', 'kept', 'looking', 'at', 'the', 'time', 'and', 'it', 'had', 'soon', 'become', '35', 'minutes', 'yet', 'still', 'no', 'food'], ['we', 'started', 'with', 'the', 'tuna', 'sashimi', 'which', 'was', 'brownish', 'in', 'color', 'and', 'obviously', 'wasn', 't', 'fresh'], ['food', 'was', 'below', 'average'], ['it', 'sure', 'does', 'beat', 'the', 'nachos', 'at', 'the', 'movies', 'but', 'i', 'would', 'expect', 'a', 'little', 'bit', 'more', 'coming', 'from', 'a', 'restaurant'], ['the', 'problem', 'i', 'have', 'is', 'that', 'they', 'charge', '11', '99', 'for', 'a', 'sandwich', 'that', 'is', 'no', 'bigger', 'than', 'a', 'subway', 'sub', 'which', 'offers', 'better', 'and', 'more', 'amount', 'of', 'vegetables'], ['it', 'lacked', 'flavor', 'seemed', 'undercooked', 'and', 'dry'], ['the', 'refried', 'beans', 'that', 'came', 'with', 'my', 'meal', 'were', 'dried', 'out', 'and', 'crusty', 'and', 'the', 'food', 'was', 'bland'], ['a', 'lady', 'at', 'the', 'table', 'next', 'to', 'us', 'found', 'a', 'live', 'green', 'caterpillar', 'in', 'her', 'salad']]\n"
     ]
    }
   ],
   "source": [
    "trainingTokens = preProcess(trainingSentences)\n",
    "testingTokens = preProcess(testingSentences)\n",
    "print(trainingTokens)"
   ]
  },
  {
   "cell_type": "markdown",
   "metadata": {},
   "source": [
    "## Getting Data and Setting it Up"
   ]
  },
  {
   "cell_type": "code",
   "execution_count": 7,
   "metadata": {},
   "outputs": [],
   "source": [
    "def getVocab(sentences):\n",
    "    vocab = set()\n",
    "    for sentence in sentences:\n",
    "        for word in sentence:\n",
    "            vocab.add(word)\n",
    "    return sorted(vocab)"
   ]
  },
  {
   "cell_type": "code",
   "execution_count": 8,
   "metadata": {},
   "outputs": [
    {
     "name": "stdout",
     "output_type": "stream",
     "text": [
      "['1', '10', '100', '11', '12', '2', '20', '2007', '3', '30', '35', '4', '40', '40min', '4ths', '5', '5lb', '7', '70', '8', '85', '99', 'a', 'about', 'above', 'absolute', 'absolutely', 'accomodate', 'across', 'actually', 'added', 'after', 'afternoon', 'again', 'ago', 'ahead', 'airport', 'albondigas', 'all', 'allergy', 'almonds', 'almost', 'alone', 'also', 'although', 'always', 'am', 'amazing', 'ambiance', 'ambience', 'amount', 'an', 'and', 'angry', 'another', 'anticipated', 'any', 'anything', 'anytime', 'anyway', 'apologize', 'app', 'appalling', 'appetizers', 'apple', 'approval', 'are', 'area', 'aren', 'aria', 'around', 'arrives', 'arriving', 'as', 'ask', 'asked', 'at', 'ate', 'atmosphere', 'atrocious', 'attack', 'attention', 'attentive', 'attitudes', 'auju', 'authentic', 'average', 'avocado', 'avoid', 'avoided', 'away', 'awesome', 'awful', 'awkward', 'az', 'baba', 'baby', 'back', 'bacon', 'bad', 'bagels', 'bakery', 'baklava', 'bamboo', 'bank', 'bar', 'barely', 'bargain', 'bartender', 'based', 'basically', 'batch', 'bathroom', 'bathrooms', 'bay', 'be', 'bean', 'beans', 'beat', 'beateous', 'beautifully', 'beauty', 'because', 'become', 'beef', 'been', 'beer', 'before', 'being', 'believe', 'bellagio', 'below', 'best', 'better', 'between', 'big', 'bigger', 'biggest', 'bill', 'bird', 'biscuit', 'biscuits', 'bisque', 'bit', 'bitches', 'bites', 'black', 'blah', 'blame', 'bland', 'blandest', 'blanket', 'block', 'bloddy', 'bloodiest', 'blown', 'blows', 'blue', 'boba', 'bodes', 'boiled', 'bone', 'boot', 'boring', 'both', 'bother', 'bottom', 'box', 'boy', 'boyfriend', 'boys', 'bread', 'break', 'breakfast', 'breaks', 'brick', 'bring', 'brother', 'brought', 'brownish', 'brunch', 'bruschetta', 'bucks', 'buffet', 'bug', 'building', 'buldogis', 'burger', 'burgers', 'burned', 'burrittos', 'bus', 'business', 'businesses', 'busy', 'but', 'butter', 'by', 'cafe', 'caf\\xc3\\xa9', 'cake', 'calamari', 'came', 'camelback', 'can', 'cannoli', 'cannot', 'cant', 'cape', 'capers', 'car', 'care', 'carly', 'cartel', 'cashew', 'cashier', 'caterpillar', 'cause', 'chains', 'changing', 'char', 'charcoal', 'charge', 'cheap', 'cheated', 'check', 'checked', 'cheese', 'chef', 'chefs', 'chicken', 'chip', 'chipotle', 'chips', 'christmas', 'claimed', 'class', 'classics', 'clean', 'climbing', 'close', 'clue', 'cocktail', 'cocktails', 'cod', 'coffee', 'cold', 'college', 'color', 'combination', 'come', 'comfortable', 'coming', 'companions', 'company', 'complain', 'completely', 'con', 'concept', 'connisseur', 'consider', 'considering', 'consistent', 'constructed', 'contain', 'contained', 'cook', 'cooked', 'cooking', 'cool', 'corn', 'correct', 'cost', 'could', 'count', 'couple', 'couples', 'coupons', 'course', 'courteous', 'cover', 'covered', 'cow', 'coziness', 'crab', 'cranberry', 'cream', 'creamy', 'crema', 'crepe', 'crisp', 'crispy', 'croutons', 'crust', 'crusty', 'crystals', 'cr\\xc3\\xaape', 'cuisine', 'curry', 'customer', 'customers', 'customize', 'cut', 'cute', 'd', 'damn', 'dark', 'dates', 'day', 'dead', 'deal', 'decided', 'decision', 'decor', 'decorated', 'dedicated', 'deeply', 'definitely', 'del', 'delicate', 'delicious', 'deliciously', 'delight', 'delish', 'deliver', 'denny', 'describing', 'despite', 'dessert', 'desserts', 'devine', 'did', 'didn', 'die', 'different', 'dine', 'dining', 'dinner', 'dirty', 'disappointed', 'disappointing', 'disappointment', 'disapppointment', 'disbelief', 'disgrace', 'disgusted', 'dish', 'dishes', 'disrespected', 'do', 'does', 'dog', 'dollars', 'don', 'done', 'dont', 'door', 'dos', 'doubt', 'douchey', 'doughy', 'down', 'downside', 'drag', 'dressed', 'dressing', 'dried', 'driest', 'drink', 'drinks', 'drive', 'driving', 'dry', 'duck', 'dude', 'during', 'dylan', 'each', 'easily', 'eat', 'eaten', 'eating', 'eclectic', 'editing', 'efficient', 'effort', 'egg', 'eggplant', 'either', 'elegantly', 'elk', 'else', 'elsewhere', 'employee', 'empty', 'ended', 'enjoy', 'enjoyable', 'enjoyed', 'enough', 'enthusiastic', 'entire', 'entrees', 'equally', 'especially', 'establishment', 'etc', 'ethic', 'eve', 'even', 'evening', 'event', 'events', 'ever', 'every', 'everything', 'everywhere', 'excellent', 'excuse', 'expanded', 'expect', 'expectations', 'expected', 'experience', 'experiencing', 'expert', 'exquisite', 'extensive', 'extra', 'extremely', 'fact', 'fail', 'fails', 'fair', 'falafels', 'family', 'famous', 'fan', 'fantastic', 'far', 'fast', 'fat', 'favorite', 'fear', 'feel', 'feeling', 'feels', 'fell', 'felt', 'few', 'fianc\\xc3\\xa9', 'figured', 'filet', 'finally', 'fine', 'finish', 'first', 'fish', 'flat', 'flavor', 'flavored', 'flavorful', 'flavorless', 'flirting', 'flower', 'fluffy', 'fly', 'fo', 'folks', 'food', 'foods', 'for', 'found', 'four', 'francisco', 'freaking', 'fresh', 'fridays', 'fried', 'friend', 'friendly', 'friends', 'fries', 'from', 'front', 'frozen', 'fruit', 'frustrated', 'fry', 'fs', 'full', 'fun', 'funny', 'fuzzy', 'ganoush', 'garden', 'garlic', 'gave', 'gc', 'generous', 'genuinely', 'get', 'gets', 'getting', 'give', 'given', 'glad', 'glance', 'glass', 'go', 'godfathers', 'going', 'gold', 'golden', 'gone', 'good', 'gooodd', 'got', 'gotten', 'gourmet', 'grain', 'gratitude', 'greasy', 'great', 'greek', 'green', 'greeted', 'grill', 'grilled', 'gringos', 'gristle', 'grocery', 'gross', 'grossed', 'ground', 'group', 'groups', 'grow', 'guess', 'guests', 'guy', 'had', 'hair', 'half', 'halibut', 'hand', 'handled', 'handmade', 'hands', 'happened', 'happy', 'hard', 'hardest', 'hardly', 'has', 'hate', 'have', 'haven', 'having', 'he', 'healthy', 'heart', 'heat', 'held', 'helpful', 'her', 'here', 'hereas', 'hi', 'high', 'highlights', 'highly', 'hilarious', 'him', 'hip', 'hiro', 'his', 'hit', 'holiday', 'home', 'homemade', 'honeslty', 'honest', 'honestly', 'honor', 'hopefully', 'hopes', 'horrible', 'host', 'hot', 'hottest', 'hour', 'hours', 'how', 'huge', 'human', 'hummus', 'hurry', 'husband', 'hut', 'i', 'ice', 'idea', 'if', 'ignore', 'im', 'imagination', 'imagined', 'immediately', 'impeccable', 'impressed', 'in', 'including', 'incredible', 'incredibly', 'indian', 'indoor', 'inexpensive', 'inflate', 'ingredients', 'inside', 'instead', 'insulted', 'interesting', 'into', 'inviting', 'ironman', 'is', 'isn', 'it', 'its', 'itself', 'japanese', 'jenni', 'jerk', 'job', 'joint', 'joke', 'judge', 'juice', 'just', 'kept', 'khao', 'kid', 'kiddos', 'kids', 'kind', 'kitchen', 'know', 'known', 'lack', 'lacked', 'lady', 'large', 'largely', 'last', 'late', 'later', 'law', 'least', 'leather', 'leave', 'left', 'leftover', 'legs', 'lemon', 'let', 'letdown', 'letting', 'level', 'lighting', 'like', 'liked', 'liking', 'lil', 'limited', 'list', 'literally', 'little', 'live', 'll', 'lobster', 'located', 'long', 'look', 'looked', 'looking', 'looks', 'lordy', 'lost', 'lot', 'lots', 'loudly', 'love', 'loved', 'lovely', 'lovers', 'loves', 'low', 'lox', 'luke', 'lukewarm', 'lunch', 'm', 'mac', 'made', 'madison', 'mains', 'maintaining', 'make', 'making', 'mall', 'managed', 'management', 'manager', 'many', 'margaritas', 'maria', 'marrow', 'mary', 'massive', 'may', 'me', 'meal', 'meals', 'mean', 'meat', 'meatballs', 'meatloaf', 'mediocre', 'mediterranean', 'medium', 'meet', 'meh', 'melt', 'melted', 'mention', 'menu', 'metro', 'middle', 'mind', 'minutes', 'miss', 'missed', 'mistake', 'mixed', 'mmmm', 'modern', 'moist', 'mom', 'money', 'months', 'mood', 'more', 'mortified', 'mouth', 'mouthful', 'movies', 'moz', 'much', 'multi', 'multiple', 'mushrooms', 'music', 'must', 'my', 'naan', 'nachos', 'nasty', 'neat', 'need', 'needed', 'needless', 'needs', 'negligent', 'neither', 'never', 'new', 'next', 'nice', 'nicest', 'night', 'nigiri', 'no', 'nobu', 'noca', 'none', 'north', 'not', 'note', 'nothing', 'now', 'number', 'nut', 'nyc', 'obviously', 'occasional', 'occasions', 'of', 'off', 'offered', 'offers', 'officially', 'oh', 'ohhh', 'ok', 'old', 'olives', 'omelets', 'on', 'once', 'one', 'ones', 'only', 'opinion', 'opportunity', 'options', 'or', 'order', 'ordered', 'ordering', 'other', 'others', 'otherwise', 'our', 'out', 'outrageously', 'outshining', 'outside', 'outstanding', 'outta', 'oven', 'over', 'overall', 'overcooked', 'overpriced', 'overwhelmed', 'owned', 'owner', 'owners', 'oysters', 'pace', 'pack', 'packed', 'paid', 'pale', 'pancakes', 'papers', 'par', 'part', 'parties', 'party', 'passed', 'past', 'pasta', 'patio', 'pats', 'pay', 'paying', 'peach', 'peanut', 'peanuts', 'pears', 'pecan', 'people', 'pepper', 'perfect', 'perfectly', 'person', 'personable', 'personally', 'petty', 'philadelphia', 'pho', 'phoenix', 'piano', 'pictures', 'piece', 'pile', 'pine', 'pink', 'pita', 'pizza', 'pizzas', 'place', 'placed', 'places', 'plantains', 'plate', 'plater', 'platter', 'play', 'playing', 'pleasant', 'pleased', 'plethora', 'plus', 'point', 'poisoning', 'polite', 'poop', 'poor', 'poorly', 'pop', 'pork', 'portions', 'positive', 'possible', 'potato', 'potatoes', 'prefer', 'prepared', 'preparing', 'pretty', 'price', 'prices', 'pricey', 'prime', 'probably', 'problem', 'proclaimed', 'promise', 'prompt', 'proven', 'provided', 'provides', 'publicly', 'pulled', 'pumpkin', 'puree', 'quaint', 'qualified', 'quality', 'quick', 'quickly', 'quit', 'quite', 'rapidly', 'rare', 'rarely', 'raspberry', 'rate', 'rated', 'rather', 'ravoli', 're', 'real', 'realized', 'really', 'reasonable', 'reasons', 'received', 'receives', 'recent', 'recently', 'recommend', 'recommendation', 'recommended', 'red', 'redeeming', 'refill', 'refried', 'regular', 'reheated', 'relationship', 'relax', 'relaxed', 'remember', 'reminds', 'restaurant', 'restaurants', 'return', 'returned', 'review', 'reviewing', 'ri', 'rib', 'rice', 'rick', 'ridiculous', 'right', 'roast', 'roasted', 'rolls', 'room', 'rubber', 'rude', 'rudely', 'running', 's', 'sad', 'saffron', 'saganaki', 'said', 'salad', 'salads', 'salmon', 'salsa', 'same', 'san', 'sandwich', 'sandwiches', 'sangria', 'sashimi', 'satifying', 'satisfied', 'satisfying', 'sauce', 'saving', 'say', 'saying', 'says', 'scallop', 'scene', 'scottsdale', 'seafood', 'seal', 'seasonal', 'seasoned', 'seasoning', 'seated', 'seating', 'second', 'section', 'see', 'seemed', 'seems', 'seen', 'selection', 'selections', 'self', 'send', 'sergeant', 'seriously', 'serve', 'served', 'server', 'servers', 'service', 'services', 'set', 'setting', 'sever', 'several', 'sexy', 'shawarrrrrrma', 'she', 'shirt', 'shoe', 'shoots', 'shop', 'shopping', 'shops', 'should', 'show', 'showed', 'shrimp', 'sick', 'side', 'sides', 'similar', 'simple', 'since', 'single', 'sit', 'sitting', 'slow', 'small', 'smaller', 'smeared', 'so', 'soggy', 'soi', 'some', 'someone', 'something', 'soon', 'soooo', 'soooooo', 'sore', 'sorely', 'soundtrack', 'soup', 'soups', 'sour', 'southwest', 'space', 'spaghetti', 'special', 'speedy', 'spend', 'spends', 'spice', 'spicier', 'spicy', 'spinach', 'sporting', 'spot', 'spots', 'spotty', 'spring', 'staff', 'stale', 'star', 'stars', 'started', 'starving', 'station', 'steak', 'steaks', 'stepped', 'steve', 'still', 'stinks', 'stir', 'stopped', 'store', 'strange', 'strawberry', 'stretch', 'strings', 'strip', 'struck', 'struggle', 'stuff', 'stupid', 'style', 'styrofoam', 'sub', 'subpar', 'subway', 'such', 'sucked', 'sugary', 'suggest', 'summary', 'sunday', 'sunglasses', 'super', 'supposed', 'sure', 'surprise', 'sushi', 'sweet', 'swung', 't', 'table', 'tables', 'taco', 'tacos', 'take', 'talk', 'talking', 'tapas', 'tartar', 'taste', 'tasted', 'tasteless', 'tasty', 'tater', 'tea', 'teeth', 'tell', 'tender', 'tepid', 'terrible', 'texture', 'thai', 'than', 'thanks', 'that', 'the', 'theft', 'their', 'them', 'themselves', 'then', 'there', 'these', 'they', 'thin', 'thing', 'things', 'think', 'thinking', 'thirty', 'this', 'those', 'thought', 'three', 'thumbs', 'thus', 'tigerlilly', 'time', 'times', 'tiny', 'tip', 'tiramisu', 'to', 'toasted', 'today', 'together', 'told', 'tolerance', 'tomato', 'tonight', 'too', 'took', 'top', 'topic', 'total', 'totally', 'tots', 'touch', 'towards', 'town', 'tracked', 'tragedy', 'treat', 'treated', 'tribute', 'tried', 'trimmed', 'trip', 'trippy', 'try', 'trying', 'tucson', 'tummy', 'tuna', 'turkey', 'tv', 'twice', 'two', 'typical', 'unbelievable', 'under', 'undercooked', 'underwhelming', 'unfortunately', 'unhealthy', 'uninspired', 'unless', 'until', 'unwelcome', 'up', 'us', 'used', 'usual', 'vacant', 'value', 've', 'vegan', 'vegas', 'vegetables', 'veggie', 'veggitarian', 'velvet', 'venue', 'verge', 'version', 'very', 'vibe', 'vinaigrette', 'visit', 'visited', 'waaaaaayyyyyyyyyy', 'wait', 'waited', 'waiter', 'waiting', 'waitress', 'waitresses', 'walked', 'wall', 'walls', 'want', 'wanted', 'warm', 'warmer', 'warnings', 'was', 'wash', 'wasn', 'waste', 'wasting', 'watch', 'watched', 'water', 'wave', 'way', 'wayyy', 'we', 'weak', 'wedges', 'week', 'weekend', 'weird', 'well', 'went', 'were', 'what', 'whatsoever', 'whelm', 'when', 'where', 'whether', 'which', 'while', 'white', 'who', 'why', 'wienerschnitzel', 'wife', 'wildly', 'will', 'wine', 'wines', 'wings', 'winner', 'wish', 'with', 'without', 'witnessed', 'won', 'wonderful', 'word', 'work', 'works', 'world', 'worse', 'worst', 'worth', 'would', 'wouldn', 'wow', 'wrap', 'wrapped', 'wrong', 'yama', 'yay', 'year', 'years', 'yellow', 'yet', 'you', 'your', 'yukon', 'yummy', 'zero']\n"
     ]
    }
   ],
   "source": [
    "vocabulary = getVocab(trainingTokens)\n",
    "print(vocabulary)    "
   ]
  },
  {
   "cell_type": "code",
   "execution_count": 32,
   "metadata": {},
   "outputs": [],
   "source": [
    "def createVector(vocab, sentences):\n",
    "    indices = []\n",
    "    wordOccurrences = []\n",
    "\n",
    "    for sentenceIndex, sentence in enumerate(sentences):\n",
    "        alreadyCounted = set() # Keep track of words so we don't double count.\n",
    "        for word in sentence:\n",
    "            if (word in vocab) and word not in alreadyCounted:\n",
    "                # If we just want {0,1} for the presence of the word (bernoulli NB),\n",
    "                # only count each word once. Otherwise (multinomial NB) count each\n",
    "                # occurrence of the word.\n",
    "                \n",
    "            \n",
    "                #which sentence, which word\n",
    "                indices.append((sentenceIndex, vocab.index(word)))\n",
    "                \n",
    "                wordOccurrences.append(1)\n",
    "                alreadyCounted.add(word)\n",
    "\n",
    "    # Unzip\n",
    "    rows = [row for row, _ in indices]\n",
    "    columns = [column for _, column in indices]\n",
    "\n",
    "    sentenceVectors = sparse.csr_matrix((wordOccurrences, (rows, columns)), dtype=int, shape=(len(sentences), len(vocab)))\n",
    "\n",
    "    return sentenceVectors"
   ]
  },
  {
   "cell_type": "code",
   "execution_count": 33,
   "metadata": {},
   "outputs": [
    {
     "name": "stdout",
     "output_type": "stream",
     "text": [
      "  (0, 694)\t1\n",
      "  (0, 884)\t1\n",
      "  (0, 1186)\t1\n",
      "  (0, 1335)\t1\n",
      "  (1, 52)\t1\n",
      "  (1, 640)\t1\n",
      "  (1, 768)\t1\n",
      "  (1, 788)\t1\n",
      "  (1, 1158)\t1\n",
      "  (1, 1166)\t1\n",
      "  (1, 1171)\t1\n",
      "  (1, 1281)\t1\n",
      "  (2, 52)\t1\n",
      "  (2, 104)\t1\n",
      "  (2, 197)\t1\n",
      "  (2, 375)\t1\n",
      "  (2, 578)\t1\n",
      "  (2, 629)\t1\n",
      "  (2, 656)\t1\n",
      "  (2, 694)\t1\n",
      "  (2, 721)\t1\n",
      "  (2, 799)\t1\n",
      "  (2, 956)\t1\n",
      "  (2, 978)\t1\n",
      "  (2, 1111)\t1\n",
      "  :\t:\n",
      "  (497, 469)\t1\n",
      "  (497, 723)\t1\n",
      "  (497, 765)\t1\n",
      "  (497, 825)\t1\n",
      "  (497, 961)\t1\n",
      "  (497, 1170)\t1\n",
      "  (497, 1171)\t1\n",
      "  (497, 1281)\t1\n",
      "  (497, 1300)\t1\n",
      "  (497, 1321)\t1\n",
      "  (498, 22)\t1\n",
      "  (498, 76)\t1\n",
      "  (498, 216)\t1\n",
      "  (498, 472)\t1\n",
      "  (498, 525)\t1\n",
      "  (498, 565)\t1\n",
      "  (498, 611)\t1\n",
      "  (498, 652)\t1\n",
      "  (498, 679)\t1\n",
      "  (498, 778)\t1\n",
      "  (498, 994)\t1\n",
      "  (498, 1146)\t1\n",
      "  (498, 1171)\t1\n",
      "  (498, 1198)\t1\n",
      "  (498, 1246)\t1\n"
     ]
    }
   ],
   "source": [
    "training = createVector(vocabulary, trainingTokens)\n",
    "testing = createVector(vocabulary, testingTokens)\n",
    "print(training)"
   ]
  },
  {
   "cell_type": "code",
   "execution_count": null,
   "metadata": {},
   "outputs": [],
   "source": []
  },
  {
   "cell_type": "code",
   "execution_count": null,
   "metadata": {},
   "outputs": [],
   "source": []
  },
  {
   "cell_type": "code",
   "execution_count": null,
   "metadata": {},
   "outputs": [],
   "source": []
  },
  {
   "cell_type": "code",
   "execution_count": null,
   "metadata": {},
   "outputs": [],
   "source": []
  },
  {
   "cell_type": "code",
   "execution_count": null,
   "metadata": {},
   "outputs": [],
   "source": []
  },
  {
   "cell_type": "code",
   "execution_count": null,
   "metadata": {},
   "outputs": [],
   "source": []
  },
  {
   "cell_type": "code",
   "execution_count": null,
   "metadata": {},
   "outputs": [],
   "source": []
  },
  {
   "cell_type": "code",
   "execution_count": null,
   "metadata": {},
   "outputs": [],
   "source": []
  }
 ],
 "metadata": {
  "kernelspec": {
   "display_name": "Python 3",
   "language": "python",
   "name": "python3"
  },
  "language_info": {
   "codemirror_mode": {
    "name": "ipython",
    "version": 3
   },
   "file_extension": ".py",
   "mimetype": "text/x-python",
   "name": "python",
   "nbconvert_exporter": "python",
   "pygments_lexer": "ipython3",
   "version": "3.9.1"
  }
 },
 "nbformat": 4,
 "nbformat_minor": 2
}
