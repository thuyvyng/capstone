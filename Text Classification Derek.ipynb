{
 "cells": [
  {
   "cell_type": "markdown",
   "metadata": {},
   "source": [
    "# Text Classification\n",
    "\n",
    "Text classification is the process of assigning tags or categories to text according to its content. It’s one of the fundamental tasks in natural language processing. \n",
    "\n",
    "The text we wanna classify is given as input to an algorithm, the algorithm will then analyze the text’s content, and then categorize the input as one of the tags or categories previously given.\n",
    "\n",
    "**Input → Classifying Algorithm → Classification of Input**\n",
    "\n",
    "Real life examples: \n",
    "\n",
    "+ sentiment analysis: how does the writer of the sentence feel about what they are writing about, do they think positively or negatively of the subject?Ex. restaurant reviews\n",
    "+ topic labeling: given sentences and a set of topics, which topic does this sentence fall under?  Ex. is this essay about history? Math? etc?\n",
    "+ spam detection. Ex. Email filtering: is this email a real important email or spam?\n",
    "\n",
    "Example. \n",
    "A restaurant wants to evaluate their ratings but don’t want to read through all of them. Therefore, they wanna use a computer algorithm to do all their work. They simply want to know if the customer’s review is positive or negative.\n",
    "\n",
    "Here’s an example of a customer’s review and a simple way an algorithm could classify their review.\n",
    "\n",
    "Input: “The food here was too salty and too expensive” \n",
    "\n",
    "Algorithm: \n",
    "Goes through every word in the sentence and counts how many positive words and how many negative words are in the sentence.\n",
    "\n",
    "\t\t“The, food, here, was, too, and” are all neutral words\n",
    "\n",
    "\t\t“Salty, expensive” are negative words.\n",
    "\n",
    "\t\tNegative words: 2\n",
    "\t\tPositive words: 0\n",
    "\n",
    "Classification: Negative Review, because there are more negative words (2) than positive (0).\n",
    "\n",
    "However, this algorithm obviously doesn’t work in a lot of cases. \n",
    "\n",
    "For example, “The food here was good, not expensive and not salty” would be classified as negative but it’s actually a positive review. \n",
    "\n",
    "Language and text can get very complicated which makes creating these algorithms difficult. Some things that make language difficult could be words that have multiple meanings, negation words (words such as not), slang, etc.\n",
    "\n"
   ]
  },
  {
   "cell_type": "markdown",
   "metadata": {},
   "source": [
    "## Importing Data"
   ]
  },
  {
   "cell_type": "code",
   "execution_count": 1,
   "metadata": {},
   "outputs": [],
   "source": [
    "import sys\n",
    "import string\n",
    "from scipy import sparse\n",
    "import numpy as np"
   ]
  },
  {
   "cell_type": "code",
   "execution_count": 2,
   "metadata": {},
   "outputs": [],
   "source": [
    "from IPython.display import display\n",
    "import ipywidgets as widgets"
   ]
  },
  {
   "cell_type": "code",
   "execution_count": 3,
   "metadata": {},
   "outputs": [],
   "source": [
    "trainingFile = \"trainingSet.txt\"\n",
    "testingFile = \"testSet.txt\""
   ]
  },
  {
   "cell_type": "code",
   "execution_count": 4,
   "metadata": {},
   "outputs": [],
   "source": [
    "def getData(fileName):\n",
    "    f = open(fileName)\n",
    "    file = f.readlines()\n",
    "\n",
    "    sentences = []\n",
    "    sentiments = []\n",
    "\n",
    "    for line in file:\n",
    "        sentence, sentiment = line.split('\\t')\n",
    "        sentences.append(sentence.strip())\n",
    "        sentiments.append(int(sentiment.strip())) # Sentiment in {0,1}\n",
    "\n",
    "    return sentences, np.array(sentiments)"
   ]
  },
  {
   "cell_type": "code",
   "execution_count": 5,
   "metadata": {},
   "outputs": [],
   "source": [
    "trainingSentences, trainingLabels = getData(trainingFile)\n",
    "testingSentences, testingLabels = getData(testingFile)"
   ]
  },
  {
   "cell_type": "markdown",
   "metadata": {},
   "source": [
    "## Pre-Processing Data"
   ]
  },
  {
   "cell_type": "code",
   "execution_count": 6,
   "metadata": {},
   "outputs": [],
   "source": [
    "def preProcess(sentences):\n",
    "\n",
    "    def cleanText(text):\n",
    "        # Make lower case\n",
    "        text = text.lower()\n",
    "\n",
    "        # Replace non-text characters with spaces\n",
    "        nonText = string.punctuation + (\"\")\n",
    "        text = text.translate(str.maketrans(nonText, ' ' * (len(nonText))))\n",
    "\n",
    "        # Tokenize\n",
    "        words = text.split()\n",
    "\n",
    "        return words\n",
    "\n",
    "    return list(map(cleanText, sentences))"
   ]
  },
  {
   "cell_type": "code",
   "execution_count": 7,
   "metadata": {},
   "outputs": [],
   "source": [
    "trainingTokens = preProcess(trainingSentences)\n",
    "testingTokens = preProcess(testingSentences)"
   ]
  },
  {
   "cell_type": "markdown",
   "metadata": {},
   "source": [
    "## Getting Data and Setting it Up"
   ]
  },
  {
   "cell_type": "code",
   "execution_count": 8,
   "metadata": {},
   "outputs": [],
   "source": [
    "def getVocab(sentences):\n",
    "    vocab = set()\n",
    "    for sentence in sentences:\n",
    "        for word in sentence:\n",
    "            vocab.add(word)\n",
    "    return sorted(vocab)"
   ]
  },
  {
   "cell_type": "code",
   "execution_count": 9,
   "metadata": {},
   "outputs": [],
   "source": [
    "vocabulary = getVocab(trainingTokens)"
   ]
  },
  {
   "cell_type": "code",
   "execution_count": 10,
   "metadata": {},
   "outputs": [
    {
     "data": {
      "application/vnd.jupyter.widget-view+json": {
       "model_id": "5e64d6037cbe40999d2e1cccc008f82e",
       "version_major": 2,
       "version_minor": 0
      },
      "text/plain": [
       "Button(description='Click to see Vocab', style=ButtonStyle())"
      ]
     },
     "metadata": {},
     "output_type": "display_data"
    }
   ],
   "source": [
    "def clicked(arg):\n",
    "    print(vocabulary)\n",
    "\n",
    "button_download = widgets.Button(description = 'Click to see Vocab')   \n",
    "button_download.on_click(clicked)\n",
    "display(button_download)"
   ]
  },
  {
   "cell_type": "code",
   "execution_count": 11,
   "metadata": {},
   "outputs": [],
   "source": [
    "def createVector(vocab, sentences):\n",
    "    indices = []\n",
    "    wordOccurrences = []\n",
    "\n",
    "    for sentenceIndex, sentence in enumerate(sentences):\n",
    "        alreadyCounted = set() # Keep track of words so we don't double count.\n",
    "        for word in sentence:\n",
    "            if (word in vocab) and word not in alreadyCounted:\n",
    "                # If we just want {0,1} for the presence of the word (bernoulli NB),\n",
    "                # only count each word once. Otherwise (multinomial NB) count each\n",
    "                # occurrence of the word.\n",
    "                \n",
    "            \n",
    "                #which sentence, which word\n",
    "                indices.append((sentenceIndex, vocab.index(word)))\n",
    "                \n",
    "                wordOccurrences.append(1)\n",
    "                alreadyCounted.add(word)\n",
    "\n",
    "    # Unzip\n",
    "    rows = [row for row, _ in indices]\n",
    "    columns = [column for _, column in indices]\n",
    "\n",
    "    sentenceVectors = sparse.csr_matrix((wordOccurrences, (rows, columns)), dtype=int, shape=(len(sentences), len(vocab)))\n",
    "\n",
    "    return sentenceVectors"
   ]
  },
  {
   "cell_type": "code",
   "execution_count": 12,
   "metadata": {},
   "outputs": [],
   "source": [
    "training = createVector(vocabulary, trainingTokens)\n",
    "testing = createVector(vocabulary, testingTokens)"
   ]
  },
  {
   "cell_type": "code",
   "execution_count": 37,
   "metadata": {},
   "outputs": [],
   "source": [
    "import numpy as np\n",
    "\n",
    "\n",
    "class NaiveBayesClassifier:\n",
    "    def __init__(self):\n",
    "        self.priorPositive = None  # Probability that a review is positive\n",
    "        self.priorNegative = None  # Probability that a review is negative\n",
    "        self.positiveLogConditionals = None\n",
    "        self.negativeLogConditionals = None\n",
    "\n",
    "    def computePriorProbabilities(self, labels):\n",
    "        self.priorPositive = len([y for y in labels if y == 1]) / len(labels)\n",
    "        self.priorNegative = 1 - self.priorPositive\n",
    "\n",
    "    def computeConditionProbabilities(self, examples, labels, dirichlet=1):\n",
    "        _, vocabularyLength = examples.shape\n",
    "\n",
    "        # How many of each word are there in all of the positive reviews\n",
    "        positiveCounts = np.array([dirichlet for _ in range(vocabularyLength)])\n",
    "        # How many of each word are there in all of the negative reviews\n",
    "        negativeCounts = np.array([dirichlet for _ in range(vocabularyLength)])\n",
    "\n",
    "        # Here's how to iterate through a spare array\n",
    "        coordinates = examples.tocoo()  # Converted to a `coordinate` format\n",
    "        for exampleIndex, featureIndex, observationCount in zip(coordinates.row, coordinates.col, coordinates.data):\n",
    "            # For sentence {exampleIndex}, for word at index {featureIndex}, the word occurred {observationCount} times\n",
    "            if labels[exampleIndex] == 1:\n",
    "                positiveCounts[featureIndex] += observationCount\n",
    "            else:\n",
    "                negativeCounts[featureIndex] += observationCount\n",
    "\n",
    "        # [!] Make sure to use the logs of the probabilities\n",
    "        positiveReviewCount = len([y for y in labels if y == 1])\n",
    "        negativeReviewCount = len([y for y in labels if y == 0])\n",
    "\n",
    "        # We are using bernoulli NB\n",
    "        self.positiveLogConditionals = np.log(positiveCounts) - np.log(positiveReviewCount + dirichlet*2)\n",
    "        self.negativeLogConditionals = np.log(negativeCounts) - np.log(negativeReviewCount + dirichlet*2)\n",
    "\n",
    "        # This works for multinomial NB\n",
    "        # self.positiveLogConditionals = np.log(positiveCounts) - np.log(sum(positiveCounts))\n",
    "        # self.negativeLogConditionals = np.log(negativeCounts) - np.log(sum(negativeCounts))\n",
    "\n",
    "    # Calculate all of the parameters for making a naive bayes classification\n",
    "    def fit(self, trainingExamples, trainingLabels):\n",
    "        # Compute the probability of positive/negative review\n",
    "        self.computePriorProbabilities(trainingLabels)\n",
    "\n",
    "        # Compute\n",
    "        self.computeConditionProbabilities(trainingExamples, trainingLabels)\n",
    "\n",
    "    def computeLogPosteriors(self, sentence):\n",
    "        return ((np.log(self.priorPositive) + sum(sentence * self.positiveLogConditionals)),\n",
    "                (np.log(self.priorNegative) + sum(sentence * self.negativeLogConditionals)))\n",
    "\n",
    "    def predict(self, examples):\n",
    "        totalReviewCount, _ = examples.shape\n",
    "        conf_list = []\n",
    "\n",
    "        predictions = np.array([0 for _ in range(totalReviewCount)])\n",
    "\n",
    "        for index, sentence in enumerate(examples):\n",
    "            logProbabilityPositive, logProbabilityNegative = self.computeLogPosteriors(\n",
    "                sentence)\n",
    "            conf_list.append([np.exp(logProbabilityPositive), np.exp(logProbabilityNegative)])\n",
    "            predictions[index] = 1 if logProbabilityPositive > logProbabilityNegative else 0\n",
    "\n",
    "        return conf_list, predictions"
   ]
  },
  {
   "cell_type": "code",
   "execution_count": 38,
   "metadata": {},
   "outputs": [],
   "source": [
    "nbClassifier = NaiveBayesClassifier()\n",
    "nbClassifier.fit(training, trainingLabels)"
   ]
  },
  {
   "cell_type": "code",
   "execution_count": 39,
   "metadata": {},
   "outputs": [],
   "source": [
    "def accuracy(predictions, actual):\n",
    "    return sum((predictions == actual)) / len(actual)"
   ]
  },
  {
   "cell_type": "code",
   "execution_count": 40,
   "metadata": {
    "tags": [
     "outputPrepend"
    ]
   },
   "outputs": [
    {
     "name": "stdout",
     "output_type": "stream",
     "text": [
      "312820103e-06, 3.343127081284343e-06], [1.0429319733369346e-08, 1.2346776152470574e-07], [2.4520622256110316e-12, 1.2538845790920111e-12], [0.03380197895791584, 0.0019877812304771487], [1.350687046504654e-23, 3.5826967735871363e-25], [8.836086066793038e-29, 1.303078547387358e-25], [1.0741319721877296e-06, 3.059617774625391e-08], [2.563643104178912e-23, 4.7919856096583716e-23], [4.5893091238197026e-18, 3.980582076268672e-21], [3.830383589526779e-37, 2.662190344559893e-32], [1.1390109171469797e-13, 4.351699056912264e-12], [8.315149295561593e-18, 6.482662238494719e-19], [3.546610488584047e-21, 2.1777803272645443e-18], [6.990298957289591e-05, 8.047697289381167e-06], [5.506281109065553e-13, 5.436337451350784e-13], [3.703424559755498e-12, 3.460047800669032e-14], [3.072861634906724e-25, 2.9804247677836746e-27], [3.827299199009152e-14, 9.970704412261283e-13], [3.725179608670154e-18, 7.731832658368737e-15], [1.0315545336278034e-05, 6.516354080470573e-08], [1.9643860747795065e-06, 7.253875182695637e-08], [2.126159045643705e-06, 7.202286088941147e-08], [4.586530382743106e-07, 4.173632451540264e-06], [1.317573535314133e-22, 2.797395623396782e-26], [1.0531508405730368e-42, 2.639854845381159e-37], [3.02334766440586e-10, 5.130758312142784e-12], [3.845574621686008e-06, 2.0476653372866602e-05], [1.4713231635048038e-11, 5.0798115110889105e-11], [2.9668481661452424e-28, 3.1918340671731467e-25], [1.0077825548019534e-09, 2.1500320546122157e-11], [4.925779561570037e-08, 2.0187036686537057e-09], [3.8818290999778826e-10, 2.4774232992918103e-09], [5.582530417279876e-06, 4.235630152305878e-07], [1.046620340734028e-30, 9.291205980488452e-35], [2.6509374208964345e-33, 6.459560071746085e-34], [1.0647724219337308e-23, 1.851950263488733e-21], [1.6420944184269167e-22, 8.786797537744166e-19], [1.9522269386686963e-14, 1.0296093657861298e-15], [3.030120892323405e-39, 6.837254007025159e-32], [2.8000470078832024e-09, 1.1383667304438203e-11], [1.2874077680667033e-11, 5.77251308078283e-13], [1.1049909508323898e-14, 4.335197329625827e-16], [3.531166734181808e-16, 1.04036493145358e-15], [4.263129740146821e-21, 2.6360392613232245e-18], [1.2060188519190074e-11, 2.8758738453317463e-11], [4.138627025053353e-07, 2.172509662455891e-08], [8.673963301127149e-11, 5.632031567754942e-13], [6.770632151124232e-11, 1.4360934137906664e-11], [1.0075365141391563e-11, 2.5111642918135705e-09], [8.632772348348909e-20, 5.575290949698715e-23], [1.3227809482917113e-17, 2.7036958895378267e-17], [8.441678986249076e-18, 2.5079472794396644e-15], [1.882894516655399e-11, 1.0989976826875013e-12], [1.1197710920423434e-13, 3.690078679383866e-15], [1.7504303982947917e-20, 9.328149070884454e-24], [1.0170529697228552e-11, 1.4723413930741694e-12], [4.192688507582034e-28, 8.284134078531925e-24], [4.03014605655663e-10, 4.102924682033343e-11], [8.53307978184764e-07, 2.0058762487706048e-05], [7.03235096648659e-24, 2.0696026176660572e-20], [1.1650498262149325e-05, 1.778964663968468e-05], [0.00018932059675992626, 0.0013246444574780607], [1.5137267339831128e-13, 4.807645365140145e-13], [8.521720872793802e-15, 7.496770234782929e-14], [6.544101207759914e-29, 9.202101184853513e-26], [2.0817420721033615e-37, 3.812606211290197e-31], [1.2076566643857503e-16, 3.0764262146338247e-13], [2.7493324507503287e-16, 2.344104277522973e-21], [1.7316264587177574e-17, 5.099077146228134e-18], [4.953661061840485e-15, 3.3171549711428815e-16], [7.531335443190232e-08, 2.5456782686252376e-09], [1.056218615575381e-08, 1.398472177115031e-10], [2.716294230209375e-36, 5.399120738663614e-31], [2.4639267870085107e-06, 5.12866086333393e-06], [5.6796179027977884e-05, 9.579040498291758e-06], [2.145918757617748e-29, 8.095379705246793e-26], [7.033392413382607e-12, 7.192460012120862e-11], [4.004858777613829e-06, 5.2782468051811675e-05], [7.726313538038819e-16, 1.0668714190241024e-13], [1.3353126723682234e-38, 3.674309129480531e-34], [5.733162978428877e-07, 6.387178407620333e-07], [3.779789079432383e-19, 1.330651722638387e-16], [1.7930324018644393e-17, 5.8455678126342625e-19], [9.926499026009361e-10, 3.8788792296604113e-11], [1.6952383520987065e-28, 1.2941782751595694e-30], [3.2205051376843306e-28, 2.5957179000774397e-25], [8.126606962322816e-28, 3.413941097643173e-25], [7.645639484535474e-06, 1.8767099751755272e-05], [2.3328299879674863e-11, 1.6418426598856944e-10], [1.5347096539338842e-16, 1.519496739841115e-17], [9.917918190123382e-13, 9.044223028821091e-13], [2.932317188647461e-20, 2.8448317409650404e-17], [3.4252137977400476e-10, 2.668266384307797e-10], [5.923201141323714e-14, 1.249461705797154e-15], [1.7679917769418426e-16, 7.87699406537227e-18], [1.8712215599705118e-18, 1.7721428338073612e-20], [3.568358487576187e-11, 1.0516724236244064e-13], [6.97291994939525e-15, 3.90957572945e-14], [2.7999168034187612e-08, 1.4098882765200469e-08], [2.6608477745796842e-17, 1.7293149787408518e-15], [4.0134007112992544e-07, 1.0671977289257027e-09], [8.947706802231534e-16, 7.642174779789151e-18], [1.376009276133842e-34, 1.0366710756060994e-37], [7.700161483720769e-13, 4.810427567319034e-11], [1.1848606264467426e-10, 3.4810454625157514e-12], [1.9976275651493666e-15, 1.2700823780146936e-12], [1.0285698471121132e-13, 9.999558656234756e-17], [2.7130645416594105e-38, 2.62781583286543e-33], [3.422120537511817e-08, 3.937817956320499e-06], [4.5209971788295615e-11, 1.598542083909092e-11], [2.889514141128159e-05, 0.00019317955918557783], [1.9247136987049755e-21, 8.530688541618665e-20], [1.6769150096154504e-28, 5.666115693919004e-25], [7.121172338726877e-15, 4.357902896279077e-15], [1.1484103206403295e-05, 1.0371291968075279e-05], [3.549576557862703e-18, 3.840383539223813e-19], [4.560296250048432e-19, 1.1525021192809184e-21], [7.966923369970923e-31, 1.244057967103134e-34], [3.596678029461124e-25, 7.389482895331642e-29], [1.9985923284620812e-12, 2.888742066760269e-15], [4.602721586310614e-28, 4.186808679202303e-31], [2.065728704153719e-34, 7.951232223795971e-35], [2.0934489064799516e-06, 1.6942520609223515e-06], [6.479706550880605e-11, 2.524714291494955e-10], [1.533803414866247e-13, 1.928262719657941e-14], [4.811708876986314e-08, 7.661332894609928e-07], [5.2895563680657985e-12, 1.1810255258162393e-09], [6.7489840056172e-22, 4.9082673239562643e-20], [1.1748918471376917e-11, 4.6122890357320697e-10], [1.1049264923107372e-17, 8.182414638322532e-18], [9.71795590877226e-25, 9.58883496150185e-26], [8.487781817701324e-40, 4.8397995198073246e-36], [1.7191489051552345e-20, 2.5807352169320633e-23], [7.615773705299018e-07, 5.926452553185874e-06], [4.6378588443057446e-18, 4.9251394928823215e-18], [1.9643860747795065e-06, 7.253875182695637e-08], [5.276393448315061e-30, 9.195622081974432e-26], [4.1814035317722496e-08, 2.4993473992855424e-10], [1.072851727296994e-15, 4.715463374363114e-14], [2.0481162257150824e-08, 7.767514035176055e-09], [7.720745170602892e-15, 4.834719795997712e-17], [7.089268196749539e-21, 3.2293444254349087e-23], [5.826271348599301e-21, 3.382343176150533e-22], [9.557049355669368e-06, 1.4075324813816468e-05], [9.73656515660488e-29, 1.1205708593531297e-30], [9.407720459487037e-06, 4.843735259815379e-06], [6.569994505135034e-18, 2.1574299929710332e-16], [1.1145526392639755e-17, 1.247702004863528e-15], [1.2401145192994513e-29, 4.840824198523709e-34], [4.852286374972383e-10, 2.8097009804591422e-11], [2.36062394120153e-17, 8.873636043866684e-19], [1.9263427607521053e-06, 1.5025076825544972e-05], [9.299907195880557e-25, 1.4986678105937808e-20], [1.6203222242006708e-11, 4.285318314159625e-09], [5.578906381457315e-29, 5.254012703065911e-25], [2.4695670774159013e-15, 3.548152576330647e-17], [8.037744674497099e-27, 8.183149464529837e-28], [0.0002839808951398892, 0.00011755502761168931], [1.818761048748233e-27, 2.432433032070768e-22], [1.5308519110718976e-26, 9.690104386578712e-24], [5.077621476251967e-09, 3.245684876996635e-10], [1.256631700944491e-17, 1.1649163402312223e-18], [2.1413066188947695e-16, 3.941060010548044e-15], [1.723174709135287e-11, 3.161381373698019e-10], [1.2325559684891018e-08, 8.125656100343896e-08], [4.85318912592584e-08, 2.3686123045536773e-08], [4.794666795162652e-32, 2.575552267854134e-36], [8.538707691809353e-13, 4.822632996507745e-14], [6.225331785140332e-09, 4.0397970710345347e-10], [2.8697063963611067e-08, 3.550863558937618e-07], [5.361609619874385e-14, 3.3204721261140276e-12], [1.9101213080554857e-10, 2.3343789161847047e-11], [1.4592896366548512e-11, 8.700199140892813e-13], [4.0324942650844194e-22, 2.092861627292624e-25], [4.131845049283291e-15, 2.6391322140565157e-13], [2.398945820865909e-13, 9.306835607295598e-16], [6.604881415787291e-14, 3.3185371190475277e-14], [3.022132422737706e-08, 1.0974912135529394e-07], [9.244169763668282e-08, 4.748760058642527e-08], [2.050828841099934e-30, 1.0798778599588406e-32], [1.0529951024432996e-16, 7.422552100062369e-17], [1.261101443713381e-10, 5.558888300641262e-11], [7.766998841432862e-06, 0.00024143091868143515], [2.951301194079799e-11, 1.0378272186382423e-13], [7.125437678978824e-18, 5.40997291274697e-19], [7.417294111291685e-34, 1.358885187734719e-28], [3.175143504380176e-20, 6.184758886637792e-17], [2.6249220032050857e-09, 4.4860081525638e-11], [3.0075899871477526e-22, 1.0403991305042253e-23], [6.186665128089761e-10, 4.0655151578121865e-09], [2.8776958715717018e-36, 1.897944936333918e-36], [0.00037281594438877755, 7.242927560443055e-05], [5.0250785496625076e-11, 1.168047223334739e-10], [0.0008448431630411703, 0.0002609148173820418], [6.875351261728283e-08, 4.934608967820171e-10], [0.0009748190342782734, 7.037662406908229e-05], [2.702141930918422e-07, 1.2536726554816276e-06], [7.33621671252611e-27, 1.0058861772430191e-22], [0.0008077678795090181, 0.0037180361476940984], [4.420752301148518e-19, 2.120784299636227e-16], [4.4707753587401616e-08, 2.579620645540249e-08], [5.859408265031636e-10, 3.126777918757369e-12], [1.1054579624850017e-17, 1.2788192712760593e-17], [1.1499658299755609e-09, 8.331157997618435e-11], [4.042078568435488e-21, 4.210534199303463e-18], [6.998489963902443e-11, 2.189123546514257e-10], [8.149222779551391e-13, 1.7932483070494674e-14], [4.792631343208764e-17, 1.507451601870069e-19], [1.0622783110004107e-21, 2.8147209954702684e-19], [4.598996153594522e-16, 3.032609039598852e-18], [2.2877659437523606e-17, 9.0957476154551e-15], [1.926802412265683e-24, 1.1644300229111739e-26], [4.844522716772394e-07, 6.326348137071548e-06], [2.4296901938237243e-14, 8.492530520711761e-15], [4.3851355324584955e-13, 1.939110609536733e-15], [8.839737336507806e-07, 9.420617120383951e-09], [0.0008943734246349043, 0.00017529256296469102], [0.0003478765965463643, 9.618138622774567e-05], [1.794405170487211e-24, 5.884494227433749e-23], [2.078304581887059e-37, 4.3547755943737544e-33], [4.2584519544280474e-19, 3.3459797799811374e-17], [6.514669535325143e-23, 3.345174569819234e-20], [3.318419915162971e-08, 1.9786500244343867e-09], [3.713155136041581e-31, 1.0735022230952434e-26], [6.257591840021612e-07, 1.337250832513735e-05], [8.755737819929104e-14, 4.693969314980356e-12], [8.407539843289987e-17, 8.766327345237152e-19], [4.311291153779741e-05, 3.258177040235288e-06], [5.14745474986849e-29, 1.3796348965792373e-33], [5.837776090445465e-27, 2.9930633029132482e-30], [2.5019601620951297e-11, 1.121704246379396e-11], [1.0124541485750988e-14, 1.9770562585220406e-13], [4.574793022011678e-31, 1.5456272794531e-33], [5.2485940435514935e-06, 2.9392325415597876e-07], [1.7777249545515953e-08, 7.038162276388093e-07], [2.4150154194889794e-17, 2.033516001592197e-16], [4.186897812959912e-06, 1.3554016487378816e-05], [9.283990802650242e-06, 3.0496537096602295e-05], [6.999792008546884e-08, 5.998433758285292e-07], [5.711279812474914e-15, 1.3065763099797803e-11], [1.964908070919879e-15, 6.122362358406078e-14], [7.524875129769185e-14, 1.159369119563451e-17], [6.587434263748802e-24, 2.7537652990692535e-25], [3.2177273642001777e-16, 4.914009200652092e-13], [6.084487174616793e-09, 2.2868522762693567e-10], [2.755655423286582e-12, 1.9998384278306945e-10], [6.469679031231057e-30, 1.9696751782412613e-33], [7.463580500634746e-12, 1.6359348811935216e-14], [0.0010563118424348704, 1.6095394578762334e-05], [9.320398609719445e-05, 1.6095394578762334e-05], [3.807536863049081e-06, 2.2594100489541315e-07], [2.6413577848882893e-27, 1.8881172218696213e-30], [7.650788235833208e-24, 2.929258196826667e-25], [3.2001816026798147e-10, 3.668866278423225e-09], [8.329501604986437e-14, 4.440394677525286e-11], [1.9786137827792654e-10, 2.238604191408172e-12], [1.0115301617509805e-18, 3.756355947385605e-17], [9.466029837996318e-06, 2.736868713797645e-06], [6.06796784486943e-08, 7.819624896564699e-07], [9.370689305609779e-14, 4.1947048235731587e-16], [1.5909993763322943e-13, 2.539984346600699e-10], [7.657998355916891e-21, 1.6696034931220636e-23], [8.530996510416545e-10, 1.0327262978586327e-08], [1.4467494007651492e-33, 5.2423385787523665e-30], [0.00011468459226803216, 0.0004128761945386161], [5.128496158140735e-14, 2.2987883950020257e-12], [6.522836921836608e-17, 3.206156577558214e-18], [2.6543804362387093e-14, 1.9848615241823164e-14], [4.33320457671951e-09, 1.9933256796763476e-07], [3.6297541906031514e-29, 2.6267950736704533e-27], [1.0922342120764982e-06, 1.9549062241411765e-06], [2.1974281953170377e-08, 6.314140798195032e-10], [3.172368775336628e-16, 2.888596501526384e-14], [4.653531013593756e-34, 1.2641091268715941e-30], [1.8962399515216993e-09, 3.9573000488687624e-10], [2.4939357689446667e-19, 3.719011594147006e-23], [3.839001690459492e-24, 2.255905738162745e-24], [8.25042151407393e-06, 2.590669708105582e-08], [1.0622090381622155e-11, 1.2663676966794165e-10], [1.4986129246887948e-28, 3.957704577663522e-25], [3.1985286163147993e-09, 5.744094554846708e-09], [4.450158222448958e-33, 6.438880669635494e-37], [7.694565436130897e-16, 1.6642769797138536e-12], [2.0058445911867098e-19, 2.065550263494933e-21], [3.808480585007384e-12, 9.733726861122848e-12], [6.631054772517751e-14, 8.332299150484753e-16], [1.3649594416666427e-08, 1.6553370082960376e-07], [1.6061152389388771e-06, 1.7323476693927912e-05], [8.192290822733728e-16, 5.539783099580723e-18], [2.7894789531926585e-27, 1.7542705053132685e-24], [5.1199189008130275e-22, 2.028551778625654e-24], [1.7763075277383607e-22, 1.3172414146919754e-23], [5.99506789617549e-25, 2.4261432556803964e-26], [2.998211778137039e-17, 3.2112572812043144e-16], [1.9263427607521073e-05, 3.2196593197596287e-06], [4.236603599541441e-20, 1.020489923415147e-21], [1.9694180216994467e-12, 3.405612437040019e-15], [6.458567398327926e-13, 9.269727561577421e-11], [3.426328529712851e-18, 1.1221639105447322e-16], [2.3659296988888524e-07, 5.297078426547323e-06], [8.366938885216211e-09, 4.353339239781206e-09], [5.826271348599135e-21, 2.5585312163093925e-18], [9.535103043833418e-20, 3.4743170252624145e-17], [1.2397397737654214e-12, 1.0465458076207293e-11], [1.5414482489710257e-42, 8.957465525878875e-39], [2.557288840993774e-38, 5.504343420815145e-35], [3.0640892361901436e-34, 4.96669521139842e-37], [1.0955616947186295e-12, 1.7882688984706468e-13], [0.00023300996524298637, 0.0012071545934071747], [5.938180033557873e-15, 8.755181681854843e-16], [4.950252908444368e-06, 1.8652821898360252e-07], [1.5993437786557165e-16, 2.506294867085737e-14], [1.8008528616227085e-09, 5.3093055606124556e-11], [4.738314067095107e-09, 4.328604357736977e-11], [1.2416125267259652e-36, 7.638985919803753e-34], [1.5606465352729367e-15, 3.8027307121681534e-16], [1.7270921850938245e-43, 4.331663064279755e-37], [4.4884611309639777e-26, 1.9039837531458298e-28], [4.083920794907802e-28, 3.481361679157684e-25], [1.1119070317361239e-17, 4.594392315788015e-16], [4.969665664948065e-05, 0.00019236277245549138], [9.68785109749194e-14, 1.441686583612102e-15], [1.120729440576368e-18, 1.8660123340186211e-16], [1.3078089045916495e-12, 1.4369915334990994e-11], [2.9372296178442392e-12, 6.305248169148412e-11], [1.9105877601453677e-10, 5.4838874267437065e-12], [0.0001864079721943886, 0.0003380032861540089], [1.3996979927804878e-09, 1.965890553284181e-09], [7.644746093554214e-29, 8.224022914627035e-24], [4.8291881729881506e-21, 2.7732300055527915e-22], [3.746970144206867e-05, 8.471260304611752e-06], [2.724315821371096e-25, 9.759220978755753e-21], [3.09558062550131e-10, 3.4090180494770704e-12], [1.9031245267073047e-10, 3.501991269008261e-10], [2.8635910045385506e-21, 1.0118120612416105e-23], [4.049063280201733e-16, 9.861836646441301e-14], [2.8697063963611067e-08, 3.550863558937618e-07], [4.4784053266068757e-29, 1.6160667917837686e-25], [8.231417235120849e-44, 8.277486513977568e-39], [8.659216596518223e-10, 1.5097341903585956e-11], [2.340659092371939e-14, 1.5878740931339604e-16], [6.89712865456823e-15, 3.822450338710699e-17], [5.186081233816852e-32, 7.186899916806348e-33], [9.857965578457588e-14, 9.703902462374791e-16], [2.9537458823253214e-17, 3.139214846817967e-18], [3.2499034325396247e-09, 3.955678443839648e-09], [2.755798174113308e-25, 4.67724476832131e-27], [2.8040435423168103e-12, 8.19352295299281e-13], [1.0999592030262657e-30, 1.9873695870620196e-27], [1.2855030449332167e-24, 2.9030107189322788e-22], [5.3331748636547865e-09, 1.1080440136832558e-08], [5.83316000712243e-10, 1.8456719256262427e-08], [1.802055635694189e-15, 1.2656023696266378e-13], [2.607140676640927e-18, 1.1225389157566506e-21], [5.769096371734314e-26, 1.6456105128210517e-24], [1.0581716825420523e-08, 3.32473138626853e-07], [4.29226485963716e-26, 4.3545148793072144e-23], [3.090057349534179e-38, 1.8272544722370432e-33], [9.0297316910255e-08, 3.284834609633305e-06], [6.079493121349664e-15, 2.4520409546688274e-12], [1.354298840269657e-35, 1.2268584848738318e-30], [9.517106326009951e-17, 1.7790487847687166e-18], [1.802484827191482e-17, 7.355042234101683e-20], [9.64246348434506e-07, 4.393297317410801e-08], [4.498767691039968e-10, 5.637242154783638e-10], [5.925749848505304e-10, 2.8492560351855214e-08], [1.0540217659013064e-23, 3.268343359762032e-27], [5.91299505462153e-16, 2.724981178621942e-14], [3.348077598730933e-09, 7.336984386364199e-09], [1.679950082051254e-08, 2.3255466262890695e-07], [0.0001786409733529558, 0.0005231003238097762], [1.7620099549009767e-13, 1.602548455046711e-11], [9.841626511737829e-12, 3.216114430721877e-10], [1.3087775045644922e-26, 3.1270722165348595e-23], [8.16617883190527e-37, 8.360106190633118e-33], [3.4139142959095487e-19, 1.8728270392948095e-15], [2.927883887242e-12, 1.3332256185537973e-10], [6.14801351040577e-16, 2.007725688678567e-13], [2.3527140582222364e-37, 2.43340836182425e-32], [2.0619637985866415e-22, 5.943981809278422e-21], [5.463596759382871e-15, 9.430926748726279e-14], [1.3060352666105704e-07, 8.547768105556554e-07], [1.5058670562533336e-21, 3.1826238647969054e-20], [1.1851499697010615e-10, 4.811243743624658e-08], [5.13508805656818e-28, 1.6800020941523035e-25], [1.3813283870942182e-12, 1.6611462903810975e-10], [7.729777489427418e-13, 9.946484077656614e-12], [1.387911339209777e-16, 9.432627156768237e-15], [8.058663048968638e-21, 1.1337617436299799e-18], [2.4287879656702057e-10, 1.4267813304979224e-09], [6.574946051381422e-19, 5.056756218401249e-15], [5.1812081910281474e-33, 4.404143129223322e-29], [7.281561413843325e-07, 2.736868713797645e-06], [1.7987330956158716e-14, 6.602839009737786e-13], [7.05447788361368e-10, 6.966103856943589e-09], [9.421719518335086e-29, 2.6788167363216057e-24], [2.589810986016742e-27, 4.079018724150581e-23], [8.381523594054047e-21, 1.294794002475437e-18], [1.9610317326127448e-31, 3.814414562062337e-28], [5.972044769196756e-11, 4.515067314685656e-09], [1.502844811744326e-19, 2.1295053721806178e-17], [5.589833903968152e-07, 7.983973009525403e-06], [2.66887961715114e-24, 2.8947400331233625e-22], [4.4377664397956716e-28, 1.0722736173097778e-23], [5.831816804083413e-27, 2.6299382782645683e-23], [2.2399334427350055e-07, 2.2794048281484123e-06], [1.5306553376014938e-32, 1.4668708236502344e-28], [5.946567374300794e-44, 1.0284711121246457e-38], [1.9101175773570908e-14, 9.948645331703219e-12], [7.654259555359545e-25, 3.4927243537426274e-22], [1.76577458706201e-26, 5.469348989068768e-23]]\n"
     ]
    }
   ],
   "source": [
    "train_confidence_scores, trainingPredictions = nbClassifier.predict(training)\n",
    "test_confidence_scores, testingPredictions = nbClassifier.predict(testing)\n",
    "\n"
   ]
  },
  {
   "cell_type": "code",
   "execution_count": 41,
   "metadata": {},
   "outputs": [
    {
     "data": {
      "application/vnd.jupyter.widget-view+json": {
       "model_id": "7c02f4784a4748a1a6ca11e2fdf5970f",
       "version_major": 2,
       "version_minor": 0
      },
      "text/plain": [
       "Button(description='Model Accuracy', style=ButtonStyle())"
      ]
     },
     "metadata": {},
     "output_type": "display_data"
    }
   ],
   "source": [
    "def accuracy_button(arg):\n",
    "    print(\"Training accuracy:\", accuracy(trainingPredictions, trainingLabels))\n",
    "    print(\"Testing accuracy:\", accuracy(testingPredictions, testingLabels))\n",
    "\n",
    "button_download = widgets.Button(description = 'Model Accuracy')   \n",
    "button_download.on_click(accuracy_button)\n",
    "display(button_download)"
   ]
  },
  {
   "cell_type": "code",
   "execution_count": 42,
   "metadata": {},
   "outputs": [
    {
     "data": {
      "image/png": "[encoded data removed]",
      "text/plain": [
       "<Figure size 432x288 with 2 Axes>"
      ]
     },
     "metadata": {
      "needs_background": "light"
     },
     "output_type": "display_data"
    }
   ],
   "source": [
    "import pandas as pd\n",
    "import seaborn as sn\n",
    "import matplotlib.pyplot as plt\n",
    "\n",
    "data = {'Actual':    testingLabels,\n",
    "        'Predicted': testingPredictions\n",
    "        }\n",
    "\n",
    "df = pd.DataFrame(data, columns=['Actual','Predicted'])\n",
    "confusion_matrix = pd.crosstab(df['Actual'], df['Predicted'], rownames=['Actual'], colnames=['Predicted'])\n",
    "\n",
    "sn.heatmap(confusion_matrix, annot=True,cmap=\"YlGnBu\").set_title('Confusion Matrix of Testing')\n",
    "plt.show()"
   ]
  },
  {
   "cell_type": "code",
   "execution_count": 43,
   "metadata": {},
   "outputs": [
    {
     "name": "stdout",
     "output_type": "stream",
     "text": [
      "              precision    recall  f1-score   support\n",
      "\n",
      "    negative       0.74      0.91      0.82       251\n",
      "    positive       0.88      0.68      0.77       246\n",
      "\n",
      "    accuracy                           0.79       497\n",
      "   macro avg       0.81      0.79      0.79       497\n",
      "weighted avg       0.81      0.79      0.79       497\n",
      "\n"
     ]
    }
   ],
   "source": [
    "from sklearn.metrics import classification_report\n",
    "\n",
    "target_names = ['negative', 'positive']\n",
    "print(classification_report(testingLabels, testingPredictions, target_names=target_names))"
   ]
  },
  {
   "cell_type": "code",
   "execution_count": 46,
   "metadata": {
    "tags": [
     "outputPrepend"
    ]
   },
   "outputs": [
    {
     "name": "stdout",
     "output_type": "stream",
     "text": [
      "ball steak!!!!!', 'We sat another ten minutes and finally gave up and left.', 'He was terrible!', 'Everyone is treated equally special.', \"It shouldn't take 30 min for pancakes and eggs.\", 'It was delicious!!!', \"Sadly, Gordon Ramsey's Steak is a place we shall sharply avoid during our next trip to Vegas.\", \"Best fish I've ever had in my life!\", '(The bathroom is just next door and very nice.)', 'This is an Outstanding little restaurant with some of the Best Food I have ever tasted.', \"Definitely a turn off for me & i doubt I'll be back unless someone else is buying.\", 'Server did a great job handling our large rowdy table.', \"I find wasting food to be despicable, but this just wasn't food.\", 'Would come back again if I had a sushi craving while in Vegas.', 'He deserves 5 stars.', 'I left with a stomach ache and felt sick the rest of the day.', 'They dropped more than the ball.', 'RUDE & INCONSIDERATE MANAGEMENT.', 'They have great dinners.', 'This place deserves one star and 90% has to do with the food.', 'Def coming back to bowl next time', 'I will continue to come here on ladies night andddd date night ... highly recommend this place to anyone who is in the area (;', 'We walked away stuffed and happy about our first Vegas buffet experience.', 'To summarize... the food was incredible, nay, transcendant... but nothing brings me joy quite like the memory of the pneumatic condiment dispenser.', \"I'm probably one of the few people to ever go to Ians and not like it.\", 'Cooked to perfection and the service was impeccable.', 'This one is simply a disappointment.', 'Overall, I was very disappointed with the quality of food at Bouchon.', \"I don't have to be an accountant to know I'm getting screwed!\", 'Service was fantastic.', \"I don't know what kind it is but they have the best iced tea.\", 'Come hungry, leave happy and stuffed!', \"I can assure you that you won't be disappointed.\", 'I can take a little bad service but the food sucks.', 'I really enjoyed eating here.', 'Our server was very nice, and even though he looked a little overwhelmed with all of our needs, he stayed professional and friendly until the end.', \"Furthermore, you can't even find hours of operation on the website!\", \"We've tried to like this place but after 10+ times I think we're done with them.\", 'What a mistake that was!', 'No complaints!', 'Strike 2, who wants to be rushed.', 'I never come again.', 'We loved the biscuits!!!', 'Ordered an appetizer and took 40 minutes and then the pizza another 10 minutes.', 'So absolutley fantastic.', 'definitely will come back here again.', \"I like Steiners because it's dark and it feels like a bar.\", \"If you're not familiar, check it out.\", 'Nothing special.', 'Will not be back.', 'My ribeye steak was cooked perfectly and had great mesquite flavor.', \"I don't think we'll be going back anytime soon.\", 'I am far from a sushi connoisseur but I can definitely tell the difference between good food and bad food and this was certainly bad food.', 'I was so insulted.', 'Nargile - I think you are great.', 'We loved the place.', 'Definitely not worth the $3 I paid.', 'The vanilla ice cream was creamy and smooth while the profiterole (choux) pastry was fresh enough.', 'The inside is really quite nice and very clean.', 'The food was outstanding and the prices were very reasonable.', 'This is was due to the fact that it took 20 minutes to be acknowledged, then another 35 minutes to get our food...and they kept forgetting things.', 'Love the margaritas, too!', 'This was my first and only Vegas buffet and it did not disappoint.', 'Very good, though!', 'The one down note is the ventilation could use some upgrading.', 'Great pork sandwich.', \"Third, the cheese on my friend's burger was cold.\", 'We enjoy their pizza and brunch.', \"This place is a jewel in Las Vegas, and exactly what I've been hoping to find in nearly ten years living here.\", 'The selection of food was not the best.', 'They had a toro tartare with a cavier that was extraordinary and I liked the thinly sliced wagyu with white truffle.', 'It was attached to a gas station, and that is rarely a good sign.', 'How awesome is that.', 'The menu had so much good stuff on it i could not decide!', 'Worse of all, he humiliated his worker right in front of me..Bunch of horrible name callings.', 'CONCLUSION: Very filling meals.', 'Their daily specials are always a hit with my group.', 'The pancake was also really good and pretty large at that.', 'This was my first crawfish experience, and it was delicious!', 'Their monster chicken fried steak and eggs is my all time favorite.', \"I'd rather eat airline food, seriously.\", 'The ambiance was incredible.', 'My gyro was basically lettuce only.', 'Terrible service!', 'Thoroughly disappointed!', \"I don't each much pasta, but I love the homemade /hand made pastas and thin pizzas here.\", 'Give it a try, you will be happy you did.', 'By far the BEST cheesecurds we have ever had!', 'Reasonably priced also!', 'it was a drive to get there.', \"Point your finger at any item on the menu, order it and you won't be disappointed.\", 'first time there and might just be the last.', 'Similarly, the delivery man did not say a word of apology when our food was 45 minutes late.', 'And it was way to expensive.', 'The bartender was also nice.', 'Everything was good and tasty!', 'The best place in Vegas for breakfast (just check out a Sat, or Sun.', 'If you love authentic Mexican food and want a whole bunch of interesting, yet delicious meats to choose from, you need to try this place.', 'An excellent new restaurant by an experienced Frenchman.', 'If there were zero stars I would give it zero stars.', 'Worst martini ever!', 'I had the opportunity today to sample your amazing pizzas!', 'The yellowtail carpaccio was melt in your mouth fresh.', \"No, I'm going to eat the potato that I found some strangers hair in it.\", 'not even a hello, we will be right with you.', 'I really do recommend this place, you can go wrong with this donut place!', 'I guess maybe we went on an off night but it was disgraceful.', 'However, my recent experience at this particular location was not so good.', 'I know this is not like the other restaurants at all, something is very off here!', 'AVOID THIS ESTABLISHMENT!', 'I think this restaurant suffers from not trying hard enough.', 'All of the tapas dishes were delicious!', 'I *heart* this place.', 'My salad had a bland vinegrette on the baby greens and hearts of Palm.', 'After two I felt disgusting.', 'I believe that this place is a great stop for those with a huge belly and hankering for sushi.', 'I will never go back to this place and will never ever recommended this place to anyone!', 'The servers went back and forth several times, not even so much as an Are you being helped?', 'AN HOUR... seriously?', 'Eew... This location needs a complete overhaul.', 'He also came back to check on us regularly, excellent service.', 'Our server was super nice and checked on us many times.', 'The pizza tasted old, super chewy in not a good way.', \"As for the service: I'm a fan, because it's quick and you're being served by some nice folks.\", 'Boy was that sucker dry!!.', 'Over rated.', 'After I pulled up my car I waited for another 15 minutes before being acknowledged.', 'Great food and great service in a clean and friendly setting.', \"All in all, I can assure you I'll be back.\", 'My breakfast was perpared great, with a beautiful presentation of 3 giant slices of Toast, lightly dusted with powdered sugar.', 'OMG I felt like I had never eaten Thai food until this dish.', 'It was extremely crumby and pretty tasteless.', \"It'll be a regular stop on my trips to Phoenix!\", 'We got sitting fairly fast, but, ended up waiting 40 minutes just to place our order, another 30 minutes before the food arrived.', \"Couldn't ask for a more satisfying meal.\", 'I just wanted to leave.', 'I will not be eating there again.', 'Sorry, I will not be getting food from here anytime soon :(', 'The cow tongue and cheek tacos are amazing.', 'My friend did not like his Bloody Mary.', 'They really want to make your experience a good one.', 'Very disappointing!!!', 'a drive thru means you do not want to wait around for half an hour for your food, but somehow when we end up going here they make us wait and wait.', 'Ambience is perfect.', 'Best of luck to the rude and non-customer service focused new management.', 'Any grandmother can make a roasted chicken better than this one.', 'I asked multiple times for the wine list and after some time of being ignored I went to the hostess and got one myself.', 'Same evening, him and I are both drastically sick.', 'High-quality chicken on the chicken Caesar salad.', 'We were promptly greeted and seated.', 'Tried to go here for lunch and it was a madhouse.', 'After waiting an hour and being seated, I was not in the greatest of moods.', 'The Macarons here are insanely good.', 'Our waiter was very attentive, friendly, and informative.', \"Maybe if they weren't cold they would have been somewhat edible.\", 'Great food.', 'Hands down my favorite Italian restaurant!', \"That just SCREAMS LEGIT in my book...somethat's also pretty rare here in Vegas.\", 'It was just not a fun experience.', 'The atmosphere was great with a lovely duo of violinists playing songs we requested.', 'Very convenient, since we were staying at the MGM!', 'The sweet potato tots were good but the onion rings were perfection or as close as I have had.', 'Google mediocre and I imagine Smashburger will pop up.', 'dont go here.', \"I promise they won't disappoint.\", 'As a sushi lover avoid this place by all means.', 'What a great double cheeseburger!', 'Awesome service and food.', 'A fantastic neighborhood gem !!!', 'Service was slow and not attentive.', \"I gave it 5 stars then, and I'm giving it 5 stars now.\", 'Dessert: Panna Cotta was amazing.', 'Very good food, great atmosphere.1', 'Prices are very reasonable, flavors are spot on, the sauce is home made, and the slaw is not drenched in mayo.', 'The steak was amazing...rge fillet relleno was the best seafood plate i have ever had!', 'Good food , good service .', 'It was absolutely amazing.', 'will definitely be back!', \"Hawaiian Breeze, Mango Magic, and Pineapple Delight are the smoothies that I've tried so far and they're all good.\", 'Needless to say, we will never be back here again.', 'Anyways, The food was definitely not filling at all, and for the price you pay you should expect more.', 'The chips that came out were dripping with grease, and mostly not edible.', 'Our server was very nice and attentive as were the other serving staff.', 'I work in the hospitality industry in Paradise Valley and have refrained from recommending Cibo any longer.', 'The atmosphere here is fun.', 'Service is quick and even to go orders are just like we like it!', 'That said, our mouths and bellies were still quite pleased.', 'Not my thing.', \"If you are reading this please don't go there.\", 'I loved the grilled pizza, reminded me of legit Italian pizza.', 'Only Pros : Large seating area/ Nice bar area/ Great simple drink menu/ The BEST brick oven pizza with homemade dough!', 'After one bite, I was hooked.', 'The food was great as always, compliments to the chef.', 'Awesome selection of beer.', \"One nice thing was that they added gratuity on the bill since our party was larger than 6 or 8, and they didn't expect more tip than that.\", 'The Han Nan Chicken was also very tasty.', 'As for the service, I thought it was good.', \"Ryan's Bar is definitely one Edinburgh establishment I won't be revisiting.\", \"Nicest Chinese restaurant I've been in a while.\", \"Friend's pasta -- also bad, he barely touched it.\", 'I love the decor with the Chinese calligraphy wall paper.', \"I'm not sure how long we stood there but it was long enough for me to begin to feel awkwardly out of place.\", 'When I opened the sandwich, I was impressed, but not in a good way.', 'There was a warm feeling with the service and I felt like their guest for a special treat.', 'I always order from the vegetarian menu during dinner, which has a wide array of options to choose from.', 'I got to enjoy the seafood salad, with a fabulous vinegrette.', 'The wontons were thin, not thick and chewy, almost melt in your mouth.', 'We were sat right on time and our server from the get go was FANTASTIC!', \"Main thing I didn't enjoy is that the crowd is of older crowd, around mid 30s and up.\", 'I had to wait over 30 minutes to get my drink and longer to get 2 arepas.', 'This is a GREAT place to eat!', 'The jalapeno bacon is soooo good.', 'The service was poor and thats being nice.', 'Food was good, service was good, Prices were good.', 'The place was not clean and the food oh so stale!', 'But the service was beyond bad.', 'I\\'m so happy to be here!!!\"', 'Tasted like dirt.', 'One of the few places in Phoenix that I would definately go back to again .', \"It's close to my house, it's low-key, non-fancy, affordable prices, good food.\", 'My sashimi was poor quality being soggy and tasteless.', 'the food is not tasty at all, not to say its real traditional Hunan style .', 'The flair bartenders are absolutely amazing!', 'These were so good we ordered them twice.', 'So in a nutshell: 1) The restaraunt smells like a combination of a dirty fish market and a sewer.', \"My girlfriend's veal was very bad.\", 'Join the club and get awesome offers via email.', 'Perfect for someone (me) who only likes beer ice cold, or in this case, even colder.', 'The nachos are a MUST HAVE!', 'We will not be coming back.', \"I don't have very many words to say about this place, but it does everything pretty well.\", 'The staff is super nice and very quick even with the crazy crowds of the downtown juries, lawyers, and court staff.', 'Great atmosphere, friendly and fast service.', 'When I received my Pita it was huge it did have a lot of meat in it so thumbs up there.', 'The classic Maine Lobster Roll was fantastic.', 'This place is great!!!!!!!!!!!!!!', \"I'm super pissd.\", 'Lastly, the mozzarella sticks, they were the best thing we ordered.', 'The service was terrible though.', 'I love this place.', 'I can say that the desserts were yummy.', 'The food was terrible.', 'Do not waste your money here!', 'I love that they put their food in nice plastic containers as opposed to cramming it in little paper takeout boxes.', \"Won't ever go here again.\", 'Food quality has been horrible.', 'For that price I can think of a few place I would have much rather gone.', 'I do love sushi, but I found Kabuki to be over-priced, over-hip and under-services.', 'Do yourself a favor and stay away from this dish.', 'Very poor service.', 'I have never had such bland food which surprised me considering the article we read focused so much on their spices and flavor.', 'Food is way overpriced and portions are fucking small.', \"I recently tried Caballero's and I have been back every week since!\", 'for 40 bucks a head, i really expect better food.', \"I won't be back.\", 'This place deserves no stars.', \"In fact I'm going to round up to 4 stars, just because she was so awesome.\", 'I probably would not go here again.', 'The price is reasonable and the service is great.', 'The Wife hated her meal (coconut shrimp), and our friends really did not enjoy their meals, either.', \"My fella got the huevos rancheros and they didn't look too appealing.\", \"I probably won't be coming back here.\", \"Worst food/service I've had in a while.\", 'Hot dishes are not hot, cold dishes are close to room temp.I watched staff prepare food with BARE HANDS, no gloves.Everything is deep fried in oil.', 'Always a pleasure dealing with him.', 'This place is awesome if you want something light and healthy during the summer.', 'The service was great, even the manager came and helped with our table.', \"this is the worst sushi i have ever eat besides Costco's.\", 'All in all an excellent restaurant highlighted by great service, a unique menu, and a beautiful setting.', 'My boyfriend and i sat at the bar and had a completely delightful experience.', 'Go To Place for Gyros.', 'I found a six inch long piece of wire in my salsa.', 'We definately enjoyed ourselves.', 'I had about two bites and refused to eat anymore.', 'Seriously killer hot chai latte.', 'Their rotating beers on tap is also a highlight of this place.', 'Pricing is a bit of a concern at Mellow Mushroom.', 'Worst Thai ever.', 'If you stay in Vegas you must get breakfast here at least once.', 'Highly unprofessional and rude to a loyal patron!', 'Overall, a great experience.', 'Also, I feel like the chips are bought, not made in house.', 'After the disappointing dinner we went elsewhere for dessert.', 'The chips and sals a here is amazing!!!!!!!!!!!!!!!!!!!', \"We won't be returning.\", 'This is my new fav Vegas buffet spot.', 'I seriously cannot believe that the owner has so many unexperienced employees that all are running around like chickens with their heads cut off.', 'i felt insulted and disrespected, how could you talk and judge another human being like that?', \"How can you call yourself a steakhouse if you can't properly cook a steak, I don't understand!\", \"The only thing I wasn't too crazy about was their guacamole as I don't like it purÃ©ed.\", 'There is really nothing for me at postinos, hope your experience is better', 'This place is disgusting!', 'Every time I eat here, I see caring teamwork to a professional degree.', 'However, there was so much garlic in the fondue, it was barely edible.', \"I could barely stomach the meal, but didn't complain because it was a business lunch.\", 'It also took her forever to bring us the check when we asked for it.', 'Disappointing experience.', 'If you want to wait for mediocre food and downright terrible service, then this is the place for you.', \"We won't be going back.\", \"The place was fairly clean but the food simply wasn't worth it.\", 'The meat was pretty dry, I had the sliced brisket and pulled pork.', 'It was equally awful.', 'very slow at seating even with reservation.', 'The chipolte ranch dipping sause was tasteless, seemed thin and watered down with no heat.', 'I was VERY disappointed!!', \"Maybe it's just their Vegetarian fare, but I've been twice and I thought it was average at best.\", 'The tables outside are also dirty a lot of the time and the workers are not always friendly and helpful with the menu.', 'But then they came back cold.', 'Then our food came out, disappointment ensued.', 'The only reason to eat here would be to fill up before a night of binge drinking just to get some carbs in your stomach.', 'Insults, profound deuchebaggery, and had to go outside for a smoke break while serving just to solidify it.', \"If someone orders two tacos don't' you think it may be part of customer service to ask if it is combo or ala cart?\", \"After all the rave reviews I couldn't wait to eat here......what a disappointment!\", \"It's NOT hard to make a decent hamburger.\", \"But I don't like it.\", 'Hell no will I go back', \"I don't know what the big deal is about this place, but I won't be back ya'all .\", 'I immediately said I wanted to talk to the manager but I did not want to talk to the guy who was doing shots of fireball behind the bar.', 'Your servers suck, wait, correction, our server Heimer sucked.', 'What happened next was pretty....off putting.', 'Overpriced for what you are getting.', 'I vomited in the bathroom mid lunch.', 'I have been to very few places to eat that under no circumstances would I ever return to, and this tops the list.', 'All in all, Ha Long Bay was a bit of a flop.', 'Shrimp- When I unwrapped it (I live only 1/2 a mile from Brushfire) it was literally ice cold.', \"It really is impressive that the place hasn't closed down.\", 'I would avoid this place if you are staying in the Mirage.', 'Spend your money and time some place else.', 'the presentation of the food was awful.', \"I can't tell you how disappointed I was.\", 'I think food should have flavor and texture and both were lacking.']\n"
     ]
    }
   ],
   "source": [
    "import json\n",
    "\n",
    "data = []\n",
    "for i in range(len(testingPredictions)):\n",
    "  data.append({\n",
    "      'index': i,\n",
    "      'true_label': int(testingLabels[i]),\n",
    "      'predicted_label': int(testingPredictions[i]),\n",
    "      'confidence_score': test_confidence_scores[i],\n",
    "      'text': testingSentences[i]\n",
    "  })\n",
    "\n",
    "with open('predcit.json', 'w') as outfile:\n",
    "    json.dump(data, outfile, indent=4, sort_keys=False)"
   ]
  },
  {
   "cell_type": "code",
   "execution_count": null,
   "metadata": {},
   "outputs": [],
   "source": []
  }
 ],
 "metadata": {
  "kernelspec": {
   "display_name": "Python 3",
   "language": "python",
   "name": "python3"
  },
  "language_info": {
   "codemirror_mode": {
    "name": "ipython",
    "version": 3
   },
   "file_extension": ".py",
   "mimetype": "text/x-python",
   "name": "python",
   "nbconvert_exporter": "python",
   "pygments_lexer": "ipython3",
   "version": "3.6.9"
  },
  "widgets": {
   "application/vnd.jupyter.widget-state+json": {
    "state": {
     "04f327f8729c4dfb8064560e564bc0c6": {
      "model_module": "@jupyter-widgets/controls",
      "model_module_version": "1.5.0",
      "model_name": "ButtonStyleModel",
      "state": {}
     },
     "527b16c6484f41a8bbea8b6f91ee4137": {
      "model_module": "@jupyter-widgets/controls",
      "model_module_version": "1.5.0",
      "model_name": "ButtonStyleModel",
      "state": {}
     },
     "55400c05e9674a448f4e1fca689799eb": {
      "model_module": "@jupyter-widgets/controls",
      "model_module_version": "1.5.0",
      "model_name": "ButtonStyleModel",
      "state": {}
     },
     "6d2c241530244303bf40c0e3b075e4ce": {
      "model_module": "@jupyter-widgets/base",
      "model_module_version": "1.2.0",
      "model_name": "LayoutModel",
      "state": {}
     },
     "876403260ccd4a0a8d22c264a6912605": {
      "model_module": "@jupyter-widgets/base",
      "model_module_version": "1.2.0",
      "model_name": "LayoutModel",
      "state": {}
     },
     "91e9ccd185a845428527d57ccb73fb26": {
      "model_module": "@jupyter-widgets/base",
      "model_module_version": "1.2.0",
      "model_name": "LayoutModel",
      "state": {}
     },
     "9f021bc8541a4b19862488ae989a54bf": {
      "model_module": "@jupyter-widgets/controls",
      "model_module_version": "1.5.0",
      "model_name": "ButtonModel",
      "state": {
       "description": "Model Accuracy",
       "layout": "IPY_MODEL_dd9515246a5c4b2c8378751eaa36df79",
       "style": "IPY_MODEL_04f327f8729c4dfb8064560e564bc0c6"
      }
     },
     "9f1a03a9c53344238bee47b914fa8692": {
      "model_module": "@jupyter-widgets/controls",
      "model_module_version": "1.5.0",
      "model_name": "ButtonModel",
      "state": {
       "description": "Click to see Vocab",
       "layout": "IPY_MODEL_876403260ccd4a0a8d22c264a6912605",
       "style": "IPY_MODEL_527b16c6484f41a8bbea8b6f91ee4137"
      }
     },
     "dd9515246a5c4b2c8378751eaa36df79": {
      "model_module": "@jupyter-widgets/base",
      "model_module_version": "1.2.0",
      "model_name": "LayoutModel",
      "state": {}
     },
     "eec603a2a46d48bfbb6570ddefcc6477": {
      "model_module": "@jupyter-widgets/controls",
      "model_module_version": "1.5.0",
      "model_name": "ButtonModel",
      "state": {
       "description": "Model Accuracy",
       "layout": "IPY_MODEL_91e9ccd185a845428527d57ccb73fb26",
       "style": "IPY_MODEL_f8efef0d43ab4f32b7ab103f009ffe3b"
      }
     },
     "f7141bc2f4b84b2daf37332f22af3d8f": {
      "model_module": "@jupyter-widgets/controls",
      "model_module_version": "1.5.0",
      "model_name": "ButtonModel",
      "state": {
       "description": "Click to see Vocab",
       "layout": "IPY_MODEL_6d2c241530244303bf40c0e3b075e4ce",
       "style": "IPY_MODEL_55400c05e9674a448f4e1fca689799eb"
      }
     },
     "f8efef0d43ab4f32b7ab103f009ffe3b": {
      "model_module": "@jupyter-widgets/controls",
      "model_module_version": "1.5.0",
      "model_name": "ButtonStyleModel",
      "state": {}
     }
    },
    "version_major": 2,
    "version_minor": 0
   }
  }
 },
 "nbformat": 4,
 "nbformat_minor": 2
}
